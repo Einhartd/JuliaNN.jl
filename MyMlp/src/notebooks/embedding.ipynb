{
 "cells": [
  {
   "cell_type": "markdown",
   "id": "71faaf8d",
   "metadata": {},
   "source": [
    "## Setup"
   ]
  },
  {
   "cell_type": "code",
   "execution_count": 1,
   "id": "a0ec9e87",
   "metadata": {},
   "outputs": [],
   "source": [
    "include(\"../MyReverseDiff.jl\")\n",
    "include(\"../MyEmbedding.jl\")\n",
    "include(\"../MyMlp.jl\")\n",
    "\n",
    "using .MyReverseDiff\n",
    "using .MyEmbedding\n",
    "using .MyMlp\n",
    "using JLD2\n",
    "using Printf\n",
    "using BenchmarkTools\n",
    "using LinearAlgebra\n",
    "using Distributions\n",
    "using Random\n",
    "using MLDatasets\n",
    "using Plots\n",
    "using Statistics\n",
    "using DataFrames\n",
    "using MLDataUtils"
   ]
  },
  {
   "cell_type": "code",
   "execution_count": 3,
   "id": "152376f3",
   "metadata": {},
   "outputs": [
    {
     "name": "stdout",
     "output_type": "stream",
     "text": [
      "vocab_size: 12849\n",
      "seq_len: 130\n",
      "batch_size: 64\n",
      "embedding_dim: 50\n"
     ]
    }
   ],
   "source": [
    "X_train = load(\"../../dataset/imdb_dataset_prepared.jld2\", \"X_train\")\n",
    "X_train = collect(X_train)\n",
    "y_train = load(\"../../dataset/imdb_dataset_prepared.jld2\", \"y_train\")\n",
    "y_train = collect(y_train)\n",
    "X_test = load(\"../../dataset/imdb_dataset_prepared.jld2\", \"X_test\")\n",
    "X_test = collect(X_test)\n",
    "y_test = load(\"../../dataset/imdb_dataset_prepared.jld2\", \"y_test\")\n",
    "embeddings = load(\"../../dataset/imdb_dataset_prepared.jld2\", \"embeddings\")\n",
    "#vocab = load(\"../../dataset/imdb_dataset_prepared.jld2\", \"vocab\")\n",
    "\n",
    "embedding_dim = size(embeddings,1)\n",
    "vocab_size = size(embeddings,2)\n",
    "batch_size = 64\n",
    "seq_len = size(X_train, 1)\n",
    "println(\"vocab_size: \", vocab_size)\n",
    "println(\"seq_len: \", seq_len)\n",
    "println(\"batch_size: \", batch_size)\n",
    "println(\"embedding_dim: \", embedding_dim)"
   ]
  },
  {
   "cell_type": "markdown",
   "id": "639a4c1a",
   "metadata": {},
   "source": [
    "## Test embeddingu"
   ]
  },
  {
   "cell_type": "code",
   "execution_count": 3,
   "id": "db00b051",
   "metadata": {},
   "outputs": [
    {
     "data": {
      "text/plain": [
       "4×2 Matrix{Float32}:\n",
       " 1.0  2.0\n",
       " 2.0  3.0\n",
       " 3.0  4.0\n",
       " 4.0  4.0"
      ]
     },
     "metadata": {},
     "output_type": "display_data"
    }
   ],
   "source": [
    "b = Float32.([1.0 3.0 5.0 0.0; 2.0 4.0 6.0 0.0])\n",
    "a = Float32.([1.0 2.0; 2.0 3.0; 3.0 4.0; 4.0 4.0])"
   ]
  },
  {
   "cell_type": "code",
   "execution_count": null,
   "id": "ece3e14a",
   "metadata": {},
   "outputs": [],
   "source": [
    "embedding_layer = MyMlp.Embedding(b; name=\"my_embedding_layer\", padding_idx=4)\n",
    "indices_node = MyReverseDiff.Constant(a)\n",
    "embedding_output_node = embedding_layer(indices_node)\n",
    "order = MyReverseDiff.topological_sort(embedding_output_node)\n",
    "forward_pass = MyReverseDiff.forward!(order)\n",
    "MyReverseDiff.backward!(order)\n"
   ]
  }
 ],
 "metadata": {
  "kernelspec": {
   "display_name": "Julia 1.11.0",
   "language": "julia",
   "name": "julia-1.11"
  },
  "language_info": {
   "file_extension": ".jl",
   "mimetype": "application/julia",
   "name": "julia",
   "version": "1.11.0"
  }
 },
 "nbformat": 4,
 "nbformat_minor": 5
}
