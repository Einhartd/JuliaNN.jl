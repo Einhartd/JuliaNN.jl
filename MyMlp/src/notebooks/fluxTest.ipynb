{
 "cells": [
  {
   "cell_type": "markdown",
   "id": "0e3d3c29",
   "metadata": {},
   "source": [
    "##  Setup"
   ]
  },
  {
   "cell_type": "code",
   "execution_count": 1,
   "id": "6fc22765",
   "metadata": {},
   "outputs": [
    {
     "name": "stderr",
     "output_type": "stream",
     "text": [
      "\u001b[32m\u001b[1m   Resolving\u001b[22m\u001b[39m package versions...\n",
      "\u001b[32m\u001b[1m      Compat\u001b[22m\u001b[39m entries added for Flux\n",
      "\u001b[32m\u001b[1m    Updating\u001b[22m\u001b[39m `~/Repos/AWiD/MyMlp/Project.toml`\n",
      "  \u001b[90m[587475ba] \u001b[39m\u001b[92m+ Flux v0.16.4\u001b[39m\n",
      "\u001b[32m\u001b[1m    Updating\u001b[22m\u001b[39m `~/Repos/AWiD/MyMlp/Manifest.toml`\n",
      "  \u001b[90m[082447d4] \u001b[39m\u001b[92m+ ChainRules v1.72.4\u001b[39m\n",
      "  \u001b[90m[bbf7d656] \u001b[39m\u001b[92m+ CommonSubexpressions v0.3.1\u001b[39m\n",
      "  \u001b[90m[163ba53b] \u001b[39m\u001b[92m+ DiffResults v1.1.0\u001b[39m\n",
      "  \u001b[90m[b552c78f] \u001b[39m\u001b[92m+ DiffRules v1.15.1\u001b[39m\n",
      "  \u001b[90m[f151be2c] \u001b[39m\u001b[92m+ EnzymeCore v0.8.11\u001b[39m\n",
      "  \u001b[90m[587475ba] \u001b[39m\u001b[92m+ Flux v0.16.4\u001b[39m\n",
      "  \u001b[90m[f6369f11] \u001b[39m\u001b[92m+ ForwardDiff v1.0.1\u001b[39m\n",
      "  \u001b[90m[d9f16b24] \u001b[39m\u001b[92m+ Functors v0.5.2\u001b[39m\n",
      "  \u001b[90m[7869d1d1] \u001b[39m\u001b[92m+ IRTools v0.4.14\u001b[39m\n",
      "  \u001b[90m[7e8f7934] \u001b[39m\u001b[92m+ MLDataDevices v1.10.0\u001b[39m\n",
      "  \u001b[90m[0b1bfda6] \u001b[39m\u001b[92m+ OneHotArrays v0.2.10\u001b[39m\n",
      "  \u001b[90m[3bd65402] \u001b[39m\u001b[92m+ Optimisers v0.4.6\u001b[39m\n",
      "  \u001b[90m[33c8b6b6] \u001b[39m\u001b[92m+ ProgressLogging v0.1.4\u001b[39m\n",
      "  \u001b[90m[c1ae055f] \u001b[39m\u001b[92m+ RealDot v0.1.0\u001b[39m\n",
      "  \u001b[90m[dc90abb0] \u001b[39m\u001b[92m+ SparseInverseSubset v0.1.2\u001b[39m\n",
      "  \u001b[90m[09ab397b] \u001b[39m\u001b[92m+ StructArrays v0.7.1\u001b[39m\n",
      "  \u001b[90m[e88e6eb3] \u001b[39m\u001b[92m+ Zygote v0.7.9\u001b[39m\n",
      "  \u001b[90m[700de1a5] \u001b[39m\u001b[92m+ ZygoteRules v0.2.7\u001b[39m\n",
      "  \u001b[90m[05823500] \u001b[39m\u001b[95m↓ OpenLibm_jll v0.8.1+4 ⇒ v0.8.1+2\u001b[39m\n",
      "\u001b[92m\u001b[1mPrecompiling\u001b[22m\u001b[39m project...\n",
      "    975.7 ms\u001b[32m  ✓ \u001b[39m\u001b[90mlibevdev_jll\u001b[39m\n",
      "    987.8 ms\u001b[32m  ✓ \u001b[39m\u001b[90mmtdev_jll\u001b[39m\n",
      "   1018.0 ms\u001b[32m  ✓ \u001b[39m\u001b[90mXorg_xcb_util_jll\u001b[39m\n",
      "   1123.6 ms\u001b[32m  ✓ \u001b[39m\u001b[90mlibinput_jll\u001b[39m\n",
      "   1089.9 ms\u001b[32m  ✓ \u001b[39m\u001b[90mXorg_xcb_util_keysyms_jll\u001b[39m\n",
      "   1144.5 ms\u001b[32m  ✓ \u001b[39m\u001b[90mXorg_xcb_util_wm_jll\u001b[39m\n",
      "   1149.2 ms\u001b[32m  ✓ \u001b[39m\u001b[90mXorg_xcb_util_renderutil_jll\u001b[39m\n",
      "   1154.0 ms\u001b[32m  ✓ \u001b[39m\u001b[90mXorg_xcb_util_image_jll\u001b[39m\n",
      "    775.7 ms\u001b[32m  ✓ \u001b[39m\u001b[90mXorg_xcb_util_cursor_jll\u001b[39m\n",
      "   1061.3 ms\u001b[32m  ✓ \u001b[39m\u001b[90mQt6Base_jll\u001b[39m\n",
      "    924.6 ms\u001b[32m  ✓ \u001b[39m\u001b[90mQt6ShaderTools_jll\u001b[39m\n",
      "   1119.7 ms\u001b[32m  ✓ \u001b[39m\u001b[90mGR_jll\u001b[39m\n",
      "   1736.3 ms\u001b[32m  ✓ \u001b[39m\u001b[90mQt6Declarative_jll\u001b[39m\n",
      "   2983.4 ms\u001b[32m  ✓ \u001b[39m\u001b[90mGR\u001b[39m\n",
      "  16337.9 ms\u001b[32m  ✓ \u001b[39m\u001b[90mUnitful\u001b[39m\n",
      "    667.2 ms\u001b[32m  ✓ \u001b[39m\u001b[90mUnitful → InverseFunctionsUnitfulExt\u001b[39m\n",
      "    668.5 ms\u001b[32m  ✓ \u001b[39m\u001b[90mUnitful → ConstructionBaseUnitfulExt\u001b[39m\n",
      "    733.7 ms\u001b[32m  ✓ \u001b[39m\u001b[90mAccessors → UnitfulExt\u001b[39m\n",
      "   1291.0 ms\u001b[32m  ✓ \u001b[39m\u001b[90mUnitfulLatexify\u001b[39m\n",
      "   1983.3 ms\u001b[32m  ✓ \u001b[39m\u001b[90mPeriodicTable\u001b[39m\n",
      "   2106.4 ms\u001b[32m  ✓ \u001b[39m\u001b[90mUnitfulAtomic\u001b[39m\n",
      "   2065.8 ms\u001b[32m  ✓ \u001b[39m\u001b[90mAtomsBase\u001b[39m\n",
      "   2142.5 ms\u001b[32m  ✓ \u001b[39m\u001b[90mChemfiles\u001b[39m\n",
      "  45933.1 ms\u001b[32m  ✓ \u001b[39mPlots\n",
      "   3095.3 ms\u001b[32m  ✓ \u001b[39mPlots → UnitfulExt\n",
      "   2861.1 ms\u001b[32m  ✓ \u001b[39mPlots → FileIOExt\n",
      "         \u001b[91m  ✗ \u001b[39mMyMlp\n",
      "  26 dependencies successfully precompiled in 72 seconds. 367 already precompiled.\n",
      "\n",
      "The following 1 direct dependency failed to precompile:\n",
      "\n",
      "MyMlp \n",
      "\n",
      "Failed to precompile MyMlp [1aeab2a7-b9ad-4ece-9eee-131fe1e27164] to \"/home/oliwier/.julia/compiled/v1.11/MyMlp/jl_1WdcgY\".\n",
      "\u001b[91m\u001b[1mERROR: \u001b[22m\u001b[39mLoadError: UndefVarError: `MyReverseDiff` not defined in `MyMlp`\n",
      "Stacktrace:\n",
      " [1] \u001b[0m\u001b[1minclude\u001b[22m\n",
      "\u001b[90m   @\u001b[39m \u001b[90m./\u001b[39m\u001b[90m\u001b[4mBase.jl:557\u001b[24m\u001b[39m\u001b[90m [inlined]\u001b[39m\n",
      " [2] \u001b[0m\u001b[1minclude_package_for_output\u001b[22m\u001b[0m\u001b[1m(\u001b[22m\u001b[90mpkg\u001b[39m::\u001b[0mBase.PkgId, \u001b[90minput\u001b[39m::\u001b[0mString, \u001b[90mdepot_path\u001b[39m::\u001b[0mVector\u001b[90m{String}\u001b[39m, \u001b[90mdl_load_path\u001b[39m::\u001b[0mVector\u001b[90m{String}\u001b[39m, \u001b[90mload_path\u001b[39m::\u001b[0mVector\u001b[90m{String}\u001b[39m, \u001b[90mconcrete_deps\u001b[39m::\u001b[0mVector\u001b[90m{Pair{Base.PkgId, UInt128}}\u001b[39m, \u001b[90msource\u001b[39m::\u001b[0mNothing\u001b[0m\u001b[1m)\u001b[22m\n",
      "\u001b[90m   @\u001b[39m \u001b[90mBase\u001b[39m \u001b[90m./\u001b[39m\u001b[90m\u001b[4mloading.jl:2806\u001b[24m\u001b[39m\n",
      " [3] top-level scope\n",
      "\u001b[90m   @\u001b[39m \u001b[90m\u001b[4mstdin:4\u001b[24m\u001b[39m\n",
      "in expression starting at /home/oliwier/Repos/AWiD/MyMlp/src/MyMlp.jl:1\n",
      "in expression starting at stdin:\u001b[32m\u001b[1m   Resolving\u001b[22m\u001b[39m package versions...\n",
      "\u001b[32m\u001b[1m      Compat\u001b[22m\u001b[39m entries added for Zygote\n",
      "\u001b[32m\u001b[1m    Updating\u001b[22m\u001b[39m `~/Repos/AWiD/MyMlp/Project.toml`\n",
      "  \u001b[90m[e88e6eb3] \u001b[39m\u001b[92m+ Zygote v0.7.9\u001b[39m\n",
      "\u001b[32m\u001b[1m  No Changes\u001b[22m\u001b[39m to `~/Repos/AWiD/MyMlp/Manifest.toml`\n",
      "\u001b[92m\u001b[1mPrecompiling\u001b[22m\u001b[39m project...\n",
      "         \u001b[91m  ✗ \u001b[39mMyMlp\n",
      "  0 dependencies successfully precompiled in 2 seconds. 393 already precompiled.\n",
      "\n",
      "The following 1 direct dependency failed to precompile:\n",
      "\n",
      "MyMlp \n",
      "\n",
      "Failed to precompile MyMlp [1aeab2a7-b9ad-4ece-9eee-131fe1e27164] to \"/home/oliwier/.julia/compiled/v1.11/MyMlp/jl_7W2Fea\".\n",
      "\u001b[91m\u001b[1mERROR: \u001b[22m\u001b[39mLoadError: UndefVarError: `MyReverseDiff` not defined in `MyMlp`\n",
      "Stacktrace:\n",
      " [1] \u001b[0m\u001b[1minclude\u001b[22m\n",
      "\u001b[90m   @\u001b[39m \u001b[90m./\u001b[39m\u001b[90m\u001b[4mBase.jl:557\u001b[24m\u001b[39m\u001b[90m [inlined]\u001b[39m\n",
      " [2] \u001b[0m\u001b[1minclude_package_for_output\u001b[22m\u001b[0m\u001b[1m(\u001b[22m\u001b[90mpkg\u001b[39m::\u001b[0mBase.PkgId, \u001b[90minput\u001b[39m::\u001b[0mString, \u001b[90mdepot_path\u001b[39m::\u001b[0mVector\u001b[90m{String}\u001b[39m, \u001b[90mdl_load_path\u001b[39m::\u001b[0mVector\u001b[90m{String}\u001b[39m, \u001b[90mload_path\u001b[39m::\u001b[0mVector\u001b[90m{String}\u001b[39m, \u001b[90mconcrete_deps\u001b[39m::\u001b[0mVector\u001b[90m{Pair{Base.PkgId, UInt128}}\u001b[39m, \u001b[90msource\u001b[39m::\u001b[0mNothing\u001b[0m\u001b[1m)\u001b[22m\n",
      "\u001b[90m   @\u001b[39m \u001b[90mBase\u001b[39m \u001b[90m./\u001b[39m\u001b[90m\u001b[4mloading.jl:2806\u001b[24m\u001b[39m\n",
      " [3] top-level scope\n",
      "\u001b[90m   @\u001b[39m \u001b[90m\u001b[4mstdin:4\u001b[24m\u001b[39m\n",
      "in expression starting at /home/oliwier/Repos/AWiD/MyMlp/src/MyMlp.jl:1\n",
      "in expression starting at stdin:"
     ]
    }
   ],
   "source": [
    "import Pkg\n",
    "Pkg.add(\"Flux\")\n",
    "Pkg.add(\"Zygote\")"
   ]
  },
  {
   "cell_type": "code",
   "execution_count": 1,
   "id": "c039b5ea",
   "metadata": {},
   "outputs": [],
   "source": [
    "include(\"../MyReverseDiff.jl\")\n",
    "include(\"../MyEmbedding.jl\")\n",
    "include(\"../MyMlp.jl\")\n",
    "\n",
    "using .MyReverseDiff\n",
    "using .MyEmbedding\n",
    "using .MyMlp\n",
    "using Printf\n",
    "using LinearAlgebra\n",
    "using Random\n",
    "using Flux\n",
    "using Zygote\n"
   ]
  },
  {
   "cell_type": "markdown",
   "id": "d570e7d0",
   "metadata": {},
   "source": [
    "##  Przygotowanie danych testowych"
   ]
  },
  {
   "cell_type": "code",
   "execution_count": 2,
   "id": "598adb9a",
   "metadata": {},
   "outputs": [
    {
     "name": "stdout",
     "output_type": "stream",
     "text": [
      "Słownik:\n",
      "1: good\n",
      "2: bad\n",
      "3: movie\n",
      "4: very\n",
      "5: <PAD>\n",
      "\n",
      "Parametry:\n",
      "- Rozmiar słownika: 5\n",
      "- Wymiar embedding: 3\n",
      "- Długość sekwencji: 4\n",
      "- Liczba słów w słowniku: 5\n",
      "Sekwencja 1 (pozytywna): [\"very\", \"good\", \"movie\", \"<PAD>\"]\n",
      "Indeksy: Float32[4.0, 1.0, 3.0, 5.0]\n",
      "\n",
      "Sekwencja 2 (negatywna): [\"very\", \"bad\", \"movie\", \"<PAD>\"]\n",
      "Indeksy: Float32[4.0, 2.0, 3.0, 5.0]\n",
      "\n",
      "Shape danych X: (4, 2)\n",
      "Etykiety y: Float32[1.0 0.0]\n",
      "Shape etykiet: (1, 2)\n",
      "good: Float32[1.0, 0.5, 1.0]\n",
      "bad: Float32[-1.0, 0.5, -1.0]\n",
      "movie: Float32[0.5, 0.0, 1.0]\n",
      "very: Float32[0.0, 1.0, 0.0]\n",
      "<PAD>: Float32[0.0, 0.0, 0.0]\n"
     ]
    }
   ],
   "source": [
    "# Mini słownik (bardzo mały dla prostoty)\n",
    "vocab = [\"good\", \"bad\", \"movie\", \"very\", \"<PAD>\"]\n",
    "vocab_size = length(vocab)\n",
    "embedding_dim = 3  # Małe embedding dla łatwych obliczeń\n",
    "sequence_length = 4  # Długość sekwencji\n",
    "num_of_words = 5  # Liczba słów w słowniku\n",
    "\n",
    "println(\"Słownik:\")\n",
    "for (i, word) in enumerate(vocab)\n",
    "    println(\"$i: $word\")\n",
    "end\n",
    "\n",
    "println(\"\\nParametry:\")\n",
    "println(\"- Rozmiar słownika: $vocab_size\")\n",
    "println(\"- Wymiar embedding: $embedding_dim\")\n",
    "println(\"- Długość sekwencji: $sequence_length\")\n",
    "println(\"- Liczba słów w słowniku: $num_of_words\")\n",
    "\n",
    "# Sekwencje tekstowe jako indeksy\n",
    "# Sekwencja 1: \"very good movie <PAD>\" → [5, 2, 4, 1] → pozytywna (klasa 1)\n",
    "# Sekwencja 2: \"very bad movie <PAD>\" → [5, 3, 4, 1] → negatywna (klasa 0)\n",
    "\n",
    "sequence_1 = Float32[4, 1, 3, 5]  # very good movie <PAD>\n",
    "sequence_2 = Float32[4, 2, 3, 5]  # very bad movie <PAD>\n",
    "\n",
    "# Konwertuj na format batch (sequence_length, batch_size)\n",
    "X_batch = zeros(Float32, sequence_length, 2)\n",
    "X_batch[:, 1] = sequence_1\n",
    "X_batch[:, 2] = sequence_2\n",
    "\n",
    "# Etykiety: sekwencja 1 → pozytywna (1), sekwencja 2 → negatywna (0)\n",
    "y_batch = Float32[1.0 0.0]  # (1, 2) \n",
    "\n",
    "println(\"Sekwencja 1 (pozytywna): \", [vocab[Int(i)] for i in sequence_1])\n",
    "println(\"Indeksy: \", sequence_1)\n",
    "println(\"\\nSekwencja 2 (negatywna): \", [vocab[Int(i)] for i in sequence_2])\n",
    "println(\"Indeksy: \", sequence_2)\n",
    "println(\"\\nShape danych X: \", size(X_batch))\n",
    "println(\"Etykiety y: \", y_batch)\n",
    "println(\"Shape etykiet: \", size(y_batch))\n",
    "\n",
    "# Embedding weights - każde słowo ma swój unikalny wektor\n",
    "embedding_weights = Float32[\n",
    "    1.0  -1.0   0.5  0.0 0.0;   # wymiar 1: <PAD>, good, bad, movie, very\n",
    "    0.5   0.5   0.0  1.0 0.0;   # wymiar 2\n",
    "    1.0  -1.0   1.0  0.0 0.0    # wymiar 3\n",
    "]\n",
    "\n",
    "for (i, word) in enumerate(vocab)\n",
    "    vec = embedding_weights[:, i]\n",
    "    println(\"$word: $vec\")\n",
    "end"
   ]
  },
  {
   "cell_type": "markdown",
   "id": "9f0a0628",
   "metadata": {},
   "source": [
    "##  Warstwa embedding - Flux"
   ]
  },
  {
   "cell_type": "code",
   "execution_count": 3,
   "id": "9e9dda88",
   "metadata": {},
   "outputs": [
    {
     "data": {
      "text/plain": [
       "4×2 Matrix{Int64}:\n",
       " 4  4\n",
       " 1  2\n",
       " 3  3\n",
       " 5  5"
      ]
     },
     "metadata": {},
     "output_type": "display_data"
    }
   ],
   "source": [
    "# Tworzymy warstwę embedding: 5 tokenów (słownik), każdy reprezentowany przez wektor 3-wymiarowy\n",
    "embedding_layer = Flux.Embedding(5, 3)\n",
    "\n",
    "embedding_layer.weight .= embedding_weights  # Ustawiamy wagi embeddingu na nasze predefiniowane wartości\n",
    "\n",
    "x_batch = Int64.(X_batch)  # Konwersja do Int64, ponieważ Flux.Embedding oczekuje indeksów jako Int"
   ]
  },
  {
   "cell_type": "code",
   "execution_count": 6,
   "id": "3e7399a8",
   "metadata": {},
   "outputs": [
    {
     "name": "stdout",
     "output_type": "stream",
     "text": [
      "--- PRZEJŚCIE W PRZÓD ---\n",
      "Wynik z embedding_layer(X_batch):\n",
      "Shape: (3, 4, 2)\n"
     ]
    },
    {
     "data": {
      "text/plain": [
       "3×4×2 Array{Float32, 3}:\n",
       "[:, :, 1] =\n",
       " 0.0  1.0  0.5  0.0\n",
       " 1.0  0.5  0.0  0.0\n",
       " 0.0  1.0  1.0  0.0\n",
       "\n",
       "[:, :, 2] =\n",
       " 0.0  -1.0  0.5  0.0\n",
       " 1.0   0.5  0.0  0.0\n",
       " 0.0  -1.0  1.0  0.0"
      ]
     },
     "metadata": {},
     "output_type": "display_data"
    }
   ],
   "source": [
    "# Używamy pullback, aby uzyskać wynik przejścia \"forward\" i funkcję do propagacji wstecznej\n",
    "# Chcemy gradienty względem parametrów warstwy, więc musimy je \"wyciągnąć\" z modelu\n",
    "params = Flux.params(embedding_layer)\n",
    "y_output, back = Flux.pullback(() -> embedding_layer(x_batch), params)\n",
    "\n",
    "println(\"--- PRZEJŚCIE W PRZÓD ---\")\n",
    "println(\"Wynik z embedding_layer(X_batch):\")\n",
    "println(\"Shape: \", size(y_output))\n",
    "\n",
    "y_output"
   ]
  },
  {
   "cell_type": "markdown",
   "id": "6f485a05",
   "metadata": {},
   "source": [
    "##  Warstwa embedding - Flux Backward"
   ]
  },
  {
   "cell_type": "code",
   "execution_count": 8,
   "id": "96d4160f",
   "metadata": {},
   "outputs": [
    {
     "name": "stdout",
     "output_type": "stream",
     "text": [
      "\n",
      "--- PRZEJŚCIE W TYŁ ---\n",
      "Gradient spływający z góry (Δy) to same jedynki o kształcie: (3, 4, 2)\n",
      "\n",
      "Obliczony gradient dla wag embeddingu (embedding_layer.weight):\n",
      "Shape: (3, 5)\n"
     ]
    },
    {
     "data": {
      "text/plain": [
       "3×5 Matrix{Float32}:\n",
       " 1.0  1.0  2.0  2.0  2.0\n",
       " 1.0  1.0  2.0  2.0  2.0\n",
       " 1.0  1.0  2.0  2.0  2.0"
      ]
     },
     "metadata": {},
     "output_type": "display_data"
    }
   ],
   "source": [
    "# Załóżmy, że gradient spływający z góry (z kolejnych warstw/funkcji straty)\n",
    "# to tensor samych jedynek o takim samym kształcie jak wyjście `y_output`.\n",
    "# W terminologii Zygote, ten gradient nazywa się `Δy` (delta y).\n",
    "Δy = ones(Float32, size(y_output))\n",
    "\n",
    "println(\"\\n--- PRZEJŚCIE W TYŁ ---\")\n",
    "println(\"Gradient spływający z góry (Δy) to same jedynki o kształcie: \", size(Δy))\n",
    "\n",
    "# Wywołujemy funkcję `back`, aby obliczyć gradienty.\n",
    "# Przekazujemy jej nasz sfabrykowany gradient `Δy`.\n",
    "grads = back(Δy)\n",
    "\n",
    "# `grads` to obiekt typu Zygote.Grads, z którego możemy wyciągnąć gradient dla wag\n",
    "embedding_weight_gradients = grads[embedding_layer.weight]\n",
    "\n",
    "println(\"\\nObliczony gradient dla wag embeddingu (embedding_layer.weight):\")\n",
    "println(\"Shape: \", size(embedding_weight_gradients))\n",
    "\n",
    "embedding_weight_gradients"
   ]
  }
 ],
 "metadata": {
  "kernelspec": {
   "display_name": "Julia 1.11.0",
   "language": "julia",
   "name": "julia-1.11"
  },
  "language_info": {
   "file_extension": ".jl",
   "mimetype": "application/julia",
   "name": "julia",
   "version": "1.11.0"
  }
 },
 "nbformat": 4,
 "nbformat_minor": 5
}
