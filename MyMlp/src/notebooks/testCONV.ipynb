{
 "cells": [
  {
   "cell_type": "code",
   "execution_count": 1,
   "id": "bcebc4b4",
   "metadata": {},
   "outputs": [],
   "source": [
    "s = 100\n",
    "ms = 3\n",
    "xx = randn(Float32,s,s)\n",
    "mm = randn(Float32,ms,ms)\n",
    "gg = randn(Float32,s,s*ms)\n",
    "nx = zeros(Float32,size(mm,2)*size(xx,2),size(xx,1)-size(mm,1)+1)\n",
    "M,N = size(xx)\n",
    "n = 1\n",
    "m = size(mm,2)\n",
    "B = Array{eltype(Matrix{Float32})}(undef, m*n,(M-m+1)*(N-n+1))\n",
    "\n",
    "include(\"../MyReverseDiff.jl\")\n",
    "using .MyReverseDiff\n"
   ]
  },
  {
   "cell_type": "code",
   "execution_count": 3,
   "id": "1976d86d",
   "metadata": {},
   "outputs": [
    {
     "name": "stdout",
     "output_type": "stream",
     "text": [
      "  11.295 ms (40255 allocations: 29.77 MiB)\n"
     ]
    },
    {
     "data": {
      "text/plain": [
       "(Float32[-3.5728562 0.29097152 … 0.74987197 1.1958877; -0.69869316 -0.10018628 … 1.7714828 -1.5283035; … ; 0.9397646 1.3882711 … -1.2553812 3.8321176; 1.7025809 1.8939843 … -2.2533724 1.8178376], Float32[119.9653 -140.69046 85.08795; -332.05716 79.25273 -42.02089; -123.08079 -82.07438 52.970436])"
      ]
     },
     "metadata": {},
     "output_type": "display_data"
    }
   ],
   "source": [
    "#177.400 μs (9806 allocations: 497.84 KiB)\n",
    "using BenchmarkTools\n",
    "\n",
    "# @btime MyReverseDiff.multi_convolution!(gg,@view(xx[:,s:s]),mm)\n",
    "#@btime MyReverseDiff.multi_convolution!(gg,xx,mm)\n",
    "#@btime MyReverseDiff.multi_convolution_fast!(gg,xx,mm)\n",
    "#@btime MyReverseDiff.multi_convolution_fourier(xx,mm)\n",
    "# @btime MyReverseDiff.im2col(xx,m)\n",
    "# @btime MyReverseDiff.im2col_p(xx,m)\n",
    "#@btime MyReverseDiff.multi_convolution(xx,mm)\n",
    "\n",
    "@btime MyReverseDiff.dif_convolution_fix(xx,mm,gg)"
   ]
  },
  {
   "cell_type": "code",
   "execution_count": 6,
   "id": "d8ed5674",
   "metadata": {},
   "outputs": [
    {
     "name": "stdout",
     "output_type": "stream",
     "text": [
      "Float32[5.0 1.0 2.0; 8.0 2.0 3.0; 11.0 3.0 4.0; 4.0 4.0 0.0]\n",
      "(Float32[15.0; 15.0; 15.0; 6.0;;], Float32[4.0 4.0 4.0; 7.0 7.0 7.0])\n",
      "(Float32[2.0; 5.0; 5.0; 5.0;;], Float32[10.0 10.0 10.0; 9.0 9.0 9.0])\n"
     ]
    }
   ],
   "source": [
    "#Sprawdzić poprawność dif konwolucji\n",
    "# Szerokosc - liczba obrazow, Wysokosc - dlugosc obrazow\n",
    "a = Matrix([1.0f0 2.0f0 3.0f0 4.0f0]')\n",
    "#a = Matrix([1.0f0 2.0f0 3.0f0 4.0f0]')\n",
    "# Szerokosc - liczba masek, Wysokosc - dlugosc masek\n",
    "m = Matrix([1.0f0 2.0f0; 1.0f0 0.0f0; 0.0f0 1.0f0]')\n",
    "\n",
    "y = MyReverseDiff.multi_convolution(a,m)\n",
    "\n",
    "g = ones(Float32,size(y))\n",
    "\n",
    "d=MyReverseDiff.dif_convolution_fix(a,m,g)\n",
    "dd=MyReverseDiff.dif_convolution(a,m,g)\n",
    "println(y)\n",
    "println(dd)\n",
    "println(d)"
   ]
  },
  {
   "cell_type": "markdown",
   "id": "e66d782c",
   "metadata": {},
   "source": [
    "Time:\n",
    "- 812.372 ms (18244237 allocations: 2.30 GiB)\n",
    "- 998.332 ms (18489737 allocations: 2.31 GiB)\n",
    "- 726.103 ms (18489737 allocations: 2.31 GiB)\n",
    "- 313.883 ms (6366137 allocations: 837.77 MiB)\n",
    "- 325.212 ms (6366122 allocations: 826.32 MiB)\n",
    "- 323.829 ms (6180722 allocations: 784.23 MiB)\n",
    "- 343.182 ms (6000425 allocations: 776.92 MiB)\n",
    "- 169.131 ms (427 allocations: 11.54 MiB)\n",
    "- 14.702 ms (41638 allocations: 29.37 MiB)\n",
    "- 13.583 ms (41438 allocations: 29.25 MiB)\n",
    "- 10.206 ms (11000 allocations: 27.27 MiB)"
   ]
  },
  {
   "cell_type": "code",
   "execution_count": 1,
   "id": "2f3193fa",
   "metadata": {},
   "outputs": [],
   "source": [
    "include(\"../MyReverseDiff.jl\")\n",
    "include(\"../MyMlp.jl\")\n",
    "\n",
    "using .MyReverseDiff\n",
    "using .MyMlp\n",
    "using JLD2\n",
    "using Printf\n",
    "using Random"
   ]
  },
  {
   "cell_type": "markdown",
   "id": "c74424a3",
   "metadata": {},
   "source": [
    "## Przygotowanie danych IMDB"
   ]
  },
  {
   "cell_type": "code",
   "execution_count": 2,
   "id": "d2a09dd5",
   "metadata": {},
   "outputs": [
    {
     "data": {
      "text/plain": [
       "17703"
      ]
     },
     "metadata": {},
     "output_type": "display_data"
    }
   ],
   "source": [
    "X_train = Matrix(load(\"../../dataset/imdb_dataset_prepared.jld2\", \"X_train\"));\n",
    "y_train = Matrix(load(\"../../dataset/imdb_dataset_prepared.jld2\", \"y_train\"));\n",
    "X_test = Matrix(load(\"../../dataset/imdb_dataset_prepared.jld2\", \"X_test\"));\n",
    "y_test = Matrix(load(\"../../dataset/imdb_dataset_prepared.jld2\", \"y_test\"));\n",
    "\n",
    "input_size = size(X_train,1) # Liczba cech"
   ]
  },
  {
   "cell_type": "markdown",
   "id": "c7e89f70",
   "metadata": {},
   "source": [
    "##  Trening modelu"
   ]
  },
  {
   "cell_type": "code",
   "execution_count": 3,
   "id": "fc20ef9d",
   "metadata": {},
   "outputs": [
    {
     "ename": "OutOfMemoryError",
     "evalue": "OutOfMemoryError()",
     "output_type": "error",
     "traceback": [
      "OutOfMemoryError()\n",
      "\n",
      "Stacktrace:\n",
      "  [1] GenericMemory\n",
      "    @ .\\boot.jl:516 [inlined]\n",
      "  [2] new_as_memoryref\n",
      "    @ .\\boot.jl:535 [inlined]\n",
      "  [3] Array\n",
      "    @ .\\boot.jl:582 [inlined]\n",
      "  [4] Array\n",
      "    @ .\\boot.jl:597 [inlined]\n",
      "  [5] im2col_p\n",
      "    @ c:\\Users\\RetailAdmin\\Desktop\\AWiD\\MyMlp\\src\\MyReverseDiff.jl:146 [inlined]\n",
      "  [6] multi_convolution_fast!(x_new::Matrix{Float32}, x::Matrix{Float32}, m::Matrix{Float32})\n",
      "    @ Main.MyReverseDiff c:\\Users\\RetailAdmin\\Desktop\\AWiD\\MyMlp\\src\\MyReverseDiff.jl:132\n",
      "  [7] dif_convolution(x::Matrix{Float32}, m::Matrix{Float32}, g::Matrix{Float32})\n",
      "    @ Main.MyReverseDiff c:\\Users\\RetailAdmin\\Desktop\\AWiD\\MyMlp\\src\\MyReverseDiff.jl:169\n",
      "  [8] backward(::BroadcastedOperator{typeof(conv)}, x::Matrix{Float32}, m::Matrix{Float32}, g::Matrix{Float32})\n",
      "    @ Main.MyReverseDiff c:\\Users\\RetailAdmin\\Desktop\\AWiD\\MyMlp\\src\\MyReverseDiff.jl:218\n",
      "  [9] backward!(node::BroadcastedOperator{typeof(conv)})\n",
      "    @ Main.MyReverseDiff c:\\Users\\RetailAdmin\\Desktop\\AWiD\\MyMlp\\src\\MyReverseDiff.jl:307\n",
      " [10] backward!(order::Vector{Any}; seed::Float64)\n",
      "    @ Main.MyReverseDiff c:\\Users\\RetailAdmin\\Desktop\\AWiD\\MyMlp\\src\\MyReverseDiff.jl:296\n",
      " [11] backward!(order::Vector{Any})\n",
      "    @ Main.MyReverseDiff c:\\Users\\RetailAdmin\\Desktop\\AWiD\\MyMlp\\src\\MyReverseDiff.jl:284\n",
      " [12] macro expansion\n",
      "    @ c:\\Users\\RetailAdmin\\Desktop\\AWiD\\MyMlp\\src\\notebooks\\jl_notebook_cell_df34fa98e69747e1a8f8a730347b8e2f_X14sZmlsZQ==.jl:48 [inlined]\n",
      " [13] macro expansion\n",
      "    @ .\\timing.jl:421 [inlined]\n",
      " [14] top-level scope\n",
      "    @ c:\\Users\\RetailAdmin\\Desktop\\AWiD\\MyMlp\\src\\notebooks\\jl_notebook_cell_df34fa98e69747e1a8f8a730347b8e2f_X14sZmlsZQ==.jl:32"
     ]
    }
   ],
   "source": [
    "batch_size = 64\n",
    "\n",
    "model = Chain(\n",
    "    ConvolutionBlock(3,3,3,name=\"layer1\"),\n",
    "    ConvolutionBlock(3,3,3,name=\"layer2\"),\n",
    "    FlattenBlock(name=\"flatten\"),\n",
    "    Dense(input_size*batch_size, batch_size, identity, name=\"softnet\")\n",
    ")\n",
    "\n",
    "#   Utworzenie początkowych węzłów Constant dla danych wejściowych i etykiet\n",
    "x_input_node = Constant(zeros(Float32, input_size, batch_size))\n",
    "y_label_node = Constant(zeros(Float32, batch_size, 1))\n",
    "\n",
    "#   Budowanie grafu treningowego\n",
    "loss_node, model_output_node, order = build_graph!(model, binarycrossentropy, x_input_node, y_label_node; loss_name=\"loss\")\n",
    "\n",
    "optimizer_state = setup_optimizer(Adam(), model)\n",
    "\n",
    "\n",
    "epochs = 5\n",
    "\n",
    "\n",
    "for epoch in 1:epochs\n",
    "    # --- Tasowanie zbioru treningowego NA NOWO w każdej epoce ---\n",
    "    permutation = randperm(size(X_train, 2))\n",
    "    X_train_shuffled_epoch = X_train[:, permutation]\n",
    "    y_train_shuffled_epoch = y_train[:, permutation]\n",
    "    num_batches = ceil(Int, size(X_train, 2) / batch_size)\n",
    "\n",
    "    loss_value = 0.0\n",
    "\n",
    "    t = @elapsed begin\n",
    "\n",
    "    for i in 1:num_batches\n",
    "\n",
    "        start_idx = (i - 1) * batch_size + 1\n",
    "        end_idx = min(i * batch_size, size(X_train, 2))\n",
    "        x_batch = X_train_shuffled_epoch[:, start_idx:end_idx]\n",
    "        y_batch = y_train_shuffled_epoch[:, start_idx:end_idx]\n",
    "\n",
    "        current_batch_size = size(x_batch, 2)\n",
    "        view(x_input_node.output, :, 1:current_batch_size) .= x_batch\n",
    "        view(y_label_node.output, 1:current_batch_size,:) .= y_batch'\n",
    "\n",
    "\n",
    "        forward!(order)\n",
    "\n",
    "        backward!(order)\n",
    "\n",
    "        step!(optimizer_state)\n",
    "        loss_value += loss_node.output\n",
    "\n",
    "        println(\"Epoch: \", epoch, \"Batches: \", i, \"/\",num_batches)\n",
    "    end\n",
    "end\n",
    "    avg_loss_epoch = loss_value / num_batches\n",
    "\n",
    "    println(@sprintf(\"Epoch: %d (%.2fs) \\tTrain: (l: %.2f)\", epoch, t, avg_loss_epoch))\n",
    "end"
   ]
  },
  {
   "cell_type": "code",
   "execution_count": null,
   "id": "52a0a31b",
   "metadata": {},
   "outputs": [],
   "source": []
  }
 ],
 "metadata": {
  "kernelspec": {
   "display_name": "Julia 1.11.4",
   "language": "julia",
   "name": "julia-1.11"
  },
  "language_info": {
   "file_extension": ".jl",
   "mimetype": "application/julia",
   "name": "julia",
   "version": "1.11.4"
  }
 },
 "nbformat": 4,
 "nbformat_minor": 5
}
