{
 "cells": [
  {
   "cell_type": "code",
   "execution_count": 1,
   "id": "2f3193fa",
   "metadata": {},
   "outputs": [],
   "source": [
    "include(\"../MyReverseDiff.jl\")\n",
    "include(\"../MyMlp.jl\")\n",
    "\n",
    "using .MyReverseDiff\n",
    "using .MyMlp\n",
    "using JLD2\n",
    "using Printf\n",
    "using Random"
   ]
  },
  {
   "cell_type": "markdown",
   "id": "c74424a3",
   "metadata": {},
   "source": [
    "## Przygotowanie danych IMDB"
   ]
  },
  {
   "cell_type": "code",
   "execution_count": 2,
   "id": "d2a09dd5",
   "metadata": {},
   "outputs": [
    {
     "data": {
      "text/plain": [
       "17703"
      ]
     },
     "execution_count": 2,
     "metadata": {},
     "output_type": "execute_result"
    }
   ],
   "source": [
    "X_train = Matrix(load(\"../../dataset/imdb_dataset_prepared.jld2\", \"X_train\"));\n",
    "y_train = Matrix(load(\"../../dataset/imdb_dataset_prepared.jld2\", \"y_train\"));\n",
    "X_test = Matrix(load(\"../../dataset/imdb_dataset_prepared.jld2\", \"X_test\"));\n",
    "y_test = Matrix(load(\"../../dataset/imdb_dataset_prepared.jld2\", \"y_test\"));\n",
    "\n",
    "input_size = size(X_train,1) # Liczba cech"
   ]
  },
  {
   "cell_type": "markdown",
   "id": "c7e89f70",
   "metadata": {},
   "source": [
    "##  Trening modelu"
   ]
  },
  {
   "cell_type": "code",
   "execution_count": 10,
   "id": "fc20ef9d",
   "metadata": {},
   "outputs": [
    {
     "name": "stdout",
     "output_type": "stream",
     "text": [
      "BroadcastedOperator{typeof(conv)}\n",
      "(17703, 192)\n",
      "BroadcastedOperator{typeof(max_pool)}\n",
      "(5901, 192)\n",
      "BroadcastedOperator{typeof(relu)}\n",
      "(5901, 192)\n",
      "BroadcastedOperator{typeof(conv)}\n",
      "(5901, 576)\n",
      "BroadcastedOperator{typeof(max_pool)}\n",
      "(1967, 576)\n",
      "BroadcastedOperator{typeof(relu)}\n",
      "(1967, 576)\n",
      "BroadcastedOperator{typeof(flatten)}\n",
      "(1132992, 1)\n",
      "BroadcastedOperator{typeof(LinearAlgebra.mul!)}\n",
      "(64, 1)\n",
      "BroadcastedOperator{typeof(+)}\n",
      "(64, 1)\n",
      "y_value(64, 1)\n",
      "local_grad_per_sample(64, 1)\n",
      "Flatten(1967, 576)\n"
     ]
    },
    {
     "ename": "LoadError",
     "evalue": "BoundsError: attempt to access 1967×576 Matrix{Float32} at index [1968, 1]",
     "output_type": "error",
     "traceback": [
      "BoundsError: attempt to access 1967×576 Matrix{Float32} at index [1968, 1]",
      "",
      "Stacktrace:",
      "  [1] throw_boundserror(A::Matrix{Float32}, I::Tuple{Int64, Int64})",
      "    @ Base .\\essentials.jl:14",
      "  [2] checkbounds",
      "    @ .\\abstractarray.jl:699 [inlined]",
      "  [3] getindex",
      "    @ .\\array.jl:929 [inlined]",
      "  [4] dif_max_pool(x::Matrix{Float32}, mf::Matrix{Float32}, g::Matrix{Float32})",
      "    @ Main.MyReverseDiff c:\\Users\\Szymon\\Desktop\\AWiD\\MyMlp\\src\\MyReverseDiff.jl:198",
      "  [5] backward(::BroadcastedOperator{typeof(max_pool)}, x::Matrix{Float32}, m::Matrix{Float32}, g::Matrix{Float32})",
      "    @ Main.MyReverseDiff c:\\Users\\Szymon\\Desktop\\AWiD\\MyMlp\\src\\MyReverseDiff.jl:222",
      "  [6] backward!(node::BroadcastedOperator{typeof(max_pool)})",
      "    @ Main.MyReverseDiff c:\\Users\\Szymon\\Desktop\\AWiD\\MyMlp\\src\\MyReverseDiff.jl:310",
      "  [7] backward!(order::Vector{Any}; seed::Float64)",
      "    @ Main.MyReverseDiff c:\\Users\\Szymon\\Desktop\\AWiD\\MyMlp\\src\\MyReverseDiff.jl:299",
      "  [8] backward!(order::Vector{Any})",
      "    @ Main.MyReverseDiff c:\\Users\\Szymon\\Desktop\\AWiD\\MyMlp\\src\\MyReverseDiff.jl:287",
      "  [9] macro expansion",
      "    @ .\\In[10]:48 [inlined]",
      " [10] macro expansion",
      "    @ .\\timing.jl:421 [inlined]",
      " [11] top-level scope",
      "    @ .\\In[10]:32"
     ]
    }
   ],
   "source": [
    "batch_size = 64\n",
    "\n",
    "model = Chain(\n",
    "    ConvolutionBlock(3,3,3,name=\"layer1\"),\n",
    "    ConvolutionBlock(3,3,3,name=\"layer2\"),\n",
    "    FlattenBlock(name=\"flatten\"),\n",
    "    Dense(input_size*batch_size, batch_size, identity, name=\"softnet\")\n",
    ")\n",
    "\n",
    "#   Utworzenie początkowych węzłów Constant dla danych wejściowych i etykiet\n",
    "x_input_node = Constant(zeros(Float32, input_size, batch_size))\n",
    "y_label_node = Constant(zeros(Float32, batch_size, 1))\n",
    "\n",
    "#   Budowanie grafu treningowego\n",
    "loss_node, model_output_node, order = build_graph!(model, binarycrossentropy, x_input_node, y_label_node; loss_name=\"loss\")\n",
    "\n",
    "optimizer_state = setup_optimizer(Adam(), model)\n",
    "\n",
    "\n",
    "epochs = 5\n",
    "\n",
    "\n",
    "for epoch in 1:epochs\n",
    "    # --- Tasowanie zbioru treningowego NA NOWO w każdej epoce ---\n",
    "    permutation = randperm(size(X_train, 2))\n",
    "    X_train_shuffled_epoch = X_train[:, permutation]\n",
    "    y_train_shuffled_epoch = y_train[:, permutation]\n",
    "    num_batches = ceil(Int, size(X_train, 2) / batch_size)\n",
    "\n",
    "    loss_value = 0.0\n",
    "\n",
    "    t = @elapsed begin\n",
    "\n",
    "    for i in 1:num_batches\n",
    "\n",
    "        start_idx = (i - 1) * batch_size + 1\n",
    "        end_idx = min(i * batch_size, size(X_train, 2))\n",
    "        x_batch = X_train_shuffled_epoch[:, start_idx:end_idx]\n",
    "        y_batch = y_train_shuffled_epoch[:, start_idx:end_idx]\n",
    "\n",
    "        current_batch_size = size(x_batch, 2)\n",
    "        view(x_input_node.output, :, 1:current_batch_size) .= x_batch\n",
    "        view(y_label_node.output, 1:current_batch_size,:) .= y_batch'\n",
    "\n",
    "\n",
    "        forward!(order)\n",
    "\n",
    "        backward!(order)\n",
    "\n",
    "        step!(optimizer_state)\n",
    "        loss_value += loss_node.output\n",
    "\n",
    "    end\n",
    "end\n",
    "    avg_loss_epoch = loss_value / num_batches\n",
    "\n",
    "    println(@sprintf(\"Epoch: %d (%.2fs) \\tTrain: (l: %.2f)\", epoch, t, avg_loss_epoch))\n",
    "end"
   ]
  },
  {
   "cell_type": "code",
   "execution_count": null,
   "id": "52a0a31b",
   "metadata": {},
   "outputs": [],
   "source": []
  }
 ],
 "metadata": {
  "kernelspec": {
   "display_name": "Julia 1.11.5",
   "language": "julia",
   "name": "julia-1.11"
  },
  "language_info": {
   "file_extension": ".jl",
   "mimetype": "application/julia",
   "name": "julia",
   "version": "1.11.5"
  }
 },
 "nbformat": 4,
 "nbformat_minor": 5
}
