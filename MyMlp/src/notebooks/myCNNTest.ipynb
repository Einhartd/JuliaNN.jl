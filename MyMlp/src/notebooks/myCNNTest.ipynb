{
 "cells": [
  {
   "cell_type": "markdown",
   "id": "a15cb0f4",
   "metadata": {},
   "source": [
    "##  Setup"
   ]
  },
  {
   "cell_type": "code",
   "execution_count": 1,
   "id": "6adac70e",
   "metadata": {},
   "outputs": [],
   "source": [
    "include(\"../MyReverseDiff.jl\")\n",
    "include(\"../MyEmbedding.jl\")\n",
    "include(\"../MyMlp.jl\")\n",
    "\n",
    "using .MyReverseDiff\n",
    "using .MyEmbedding\n",
    "using .MyMlp\n",
    "using Printf\n",
    "using LinearAlgebra\n",
    "using Random"
   ]
  },
  {
   "cell_type": "markdown",
   "id": "437407f6",
   "metadata": {},
   "source": [
    "##  Przygotowanie danych testowych"
   ]
  },
  {
   "cell_type": "code",
   "execution_count": 2,
   "id": "e698f48d",
   "metadata": {},
   "outputs": [
    {
     "name": "stdout",
     "output_type": "stream",
     "text": [
      "Słownik:\n",
      "1: good\n",
      "2: bad\n",
      "3: movie\n",
      "4: very\n",
      "5: <PAD>\n",
      "\n",
      "Parametry:\n",
      "- Rozmiar słownika: 5\n",
      "- Wymiar embedding: 3\n",
      "- Długość sekwencji: 4\n",
      "- Liczba słów w słowniku: 5\n",
      "Sekwencja 1 (pozytywna): [\"very\", \"good\", \"movie\", \"<PAD>\"]\n",
      "Indeksy: Float32[4.0, 1.0, 3.0, 5.0]\n",
      "\n",
      "Sekwencja 2 (negatywna): [\"very\", \"bad\", \"movie\", \"<PAD>\"]\n",
      "Indeksy: Float32[4.0, 2.0, 3.0, 5.0]\n",
      "\n",
      "Shape danych X: (4, 2)\n",
      "Etykiety y: Float32[1.0 0.0]\n",
      "Shape etykiet: (1, 2)\n",
      "good: Float32[1.0, 0.5, 1.0]\n",
      "bad: Float32[-1.0, 0.5, -1.0]\n",
      "movie: Float32[0.5, 0.0, 1.0]\n",
      "very: Float32[0.0, 1.0, 0.0]\n",
      "<PAD>: Float32[0.0, 0.0, 0.0]\n"
     ]
    }
   ],
   "source": [
    "# Mini słownik (bardzo mały dla prostoty)\n",
    "vocab = [\"good\", \"bad\", \"movie\", \"very\", \"<PAD>\"]\n",
    "vocab_size = length(vocab)\n",
    "embedding_dim = 3  # Małe embedding dla łatwych obliczeń\n",
    "sequence_length = 4  # Długość sekwencji\n",
    "num_of_words = 5  # Liczba słów w słowniku\n",
    "\n",
    "println(\"Słownik:\")\n",
    "for (i, word) in enumerate(vocab)\n",
    "    println(\"$i: $word\")\n",
    "end\n",
    "\n",
    "println(\"\\nParametry:\")\n",
    "println(\"- Rozmiar słownika: $vocab_size\")\n",
    "println(\"- Wymiar embedding: $embedding_dim\")\n",
    "println(\"- Długość sekwencji: $sequence_length\")\n",
    "println(\"- Liczba słów w słowniku: $num_of_words\")\n",
    "\n",
    "# Sekwencje tekstowe jako indeksy\n",
    "# Sekwencja 1: \"very good movie <PAD>\" → [5, 2, 4, 1] → pozytywna (klasa 1)\n",
    "# Sekwencja 2: \"very bad movie <PAD>\" → [5, 3, 4, 1] → negatywna (klasa 0)\n",
    "\n",
    "sequence_1 = Float32[4, 1, 3, 5]  # very good movie <PAD>\n",
    "sequence_2 = Float32[4, 2, 3, 5]  # very bad movie <PAD>\n",
    "\n",
    "# Konwertuj na format batch (sequence_length, batch_size)\n",
    "X_batch = zeros(Float32, sequence_length, 2)\n",
    "X_batch[:, 1] = sequence_1\n",
    "X_batch[:, 2] = sequence_2\n",
    "\n",
    "# Etykiety: sekwencja 1 → pozytywna (1), sekwencja 2 → negatywna (0)\n",
    "y_batch = Float32[1.0 0.0]  # (1, 2) \n",
    "\n",
    "println(\"Sekwencja 1 (pozytywna): \", [vocab[Int(i)] for i in sequence_1])\n",
    "println(\"Indeksy: \", sequence_1)\n",
    "println(\"\\nSekwencja 2 (negatywna): \", [vocab[Int(i)] for i in sequence_2])\n",
    "println(\"Indeksy: \", sequence_2)\n",
    "println(\"\\nShape danych X: \", size(X_batch))\n",
    "println(\"Etykiety y: \", y_batch)\n",
    "println(\"Shape etykiet: \", size(y_batch))\n",
    "\n",
    "# Embedding weights - każde słowo ma swój unikalny wektor\n",
    "embedding_weights = Float32[\n",
    "    1.0  -1.0   0.5  0.0 0.0;   # wymiar 1: <PAD>, good, bad, movie, very\n",
    "    0.5   0.5   0.0  1.0 0.0;   # wymiar 2\n",
    "    1.0  -1.0   1.0  0.0 0.0    # wymiar 3\n",
    "]\n",
    "\n",
    "for (i, word) in enumerate(vocab)\n",
    "    vec = embedding_weights[:, i]\n",
    "    println(\"$word: $vec\")\n",
    "end"
   ]
  },
  {
   "cell_type": "markdown",
   "id": "a8e1c112",
   "metadata": {},
   "source": [
    "##  Warstwa embedding - MyCNN Forward"
   ]
  },
  {
   "cell_type": "code",
   "execution_count": 3,
   "id": "c4fb095e",
   "metadata": {},
   "outputs": [
    {
     "data": {
      "text/plain": [
       "3×4×2 Array{Float32, 3}:\n",
       "[:, :, 1] =\n",
       " 0.0  1.0  0.5  0.0\n",
       " 1.0  0.5  0.0  0.0\n",
       " 0.0  1.0  1.0  0.0\n",
       "\n",
       "[:, :, 2] =\n",
       " 0.0  -1.0  0.5  0.0\n",
       " 1.0   0.5  0.0  0.0\n",
       " 0.0  -1.0  1.0  0.0"
      ]
     },
     "metadata": {},
     "output_type": "display_data"
    }
   ],
   "source": [
    "embedding_layer = MyMlp.Embedding(embedding_weights; name=\"my_embedding_layer\")\n",
    "indices_node = MyReverseDiff.Constant(X_batch)\n",
    "embedding_output_node = embedding_layer(indices_node)\n",
    "order = MyReverseDiff.topological_sort(embedding_output_node)\n",
    "forward_pass = MyReverseDiff.forward!(order)"
   ]
  },
  {
   "cell_type": "markdown",
   "id": "516ba6eb",
   "metadata": {},
   "source": [
    "##  Warstwa embedding - MyCNN Backward"
   ]
  },
  {
   "cell_type": "code",
   "execution_count": 4,
   "id": "93b12115",
   "metadata": {},
   "outputs": [],
   "source": [
    "output = MyReverseDiff.backward!(order)"
   ]
  },
  {
   "cell_type": "markdown",
   "id": "38286f0a",
   "metadata": {},
   "source": [
    "##  Warstwa Dense 3D - MyCNN Forward"
   ]
  },
  {
   "cell_type": "code",
   "execution_count": 5,
   "id": "16b5b3df",
   "metadata": {},
   "outputs": [
    {
     "data": {
      "text/plain": [
       "2×1 Matrix{Float32}:\n",
       "  1.0\n",
       " -2.0"
      ]
     },
     "metadata": {},
     "output_type": "display_data"
    }
   ],
   "source": [
    "# Chcemy transformować każdy wektor o długości `embedding_dim`\n",
    "# na nowy wektor o długości `dense_output_dim`.\n",
    "dense_output_dim = 2 # Załóżmy, że chcemy uzyskać wektory 5-wymiarowe\n",
    "# Predefiniowane wagi i bias (te same)\n",
    "custom_weights = Float32[\n",
    "    10.0  0.0  -1.0;\n",
    "     0.0  1.0   2.0\n",
    "]\n",
    "custom_bias = Float32[1.0; -2.0]  # 2-elementowy wektor kolumnowy\n",
    "custom_bias_matrix = reshape(custom_bias, :, 1)  # => 2×1 macierz\n"
   ]
  },
  {
   "cell_type": "code",
   "execution_count": 6,
   "id": "3b4f1c85",
   "metadata": {},
   "outputs": [
    {
     "data": {
      "text/plain": [
       "2×1 Matrix{Float32}:\n",
       "  1.0\n",
       " -2.0"
      ]
     },
     "metadata": {},
     "output_type": "display_data"
    }
   ],
   "source": [
    "dense_layer = MyMlp.Dense3D(embedding_dim, dense_output_dim, MyMlp.relu; name=\"my_dense_layer\")\n",
    "dense_input = MyReverseDiff.Constant(forward_pass)\n",
    "dense_output_node = dense_layer(dense_input)\n",
    "dense_order = MyReverseDiff.topological_sort(dense_output_node)\n",
    "\n",
    "dense_order[2].output = custom_weights\n",
    "dense_order[3].output = custom_bias_matrix\n"
   ]
  },
  {
   "cell_type": "code",
   "execution_count": 7,
   "id": "c9fa20fb",
   "metadata": {},
   "outputs": [
    {
     "data": {
      "text/plain": [
       "2×4×2 Array{Float32, 3}:\n",
       "[:, :, 1] =\n",
       "  1.0  10.0  5.0   1.0\n",
       " -0.0   0.5  0.0  -0.0\n",
       "\n",
       "[:, :, 2] =\n",
       "  1.0  -0.0  5.0   1.0\n",
       " -0.0  -0.0  0.0  -0.0"
      ]
     },
     "metadata": {},
     "output_type": "display_data"
    }
   ],
   "source": [
    "dense_forward_pass = MyReverseDiff.forward!(dense_order)"
   ]
  },
  {
   "cell_type": "markdown",
   "id": "989aedc6",
   "metadata": {},
   "source": [
    "##  Dense 3D - MyCNN Backward"
   ]
  },
  {
   "cell_type": "code",
   "execution_count": 8,
   "id": "a6035996",
   "metadata": {},
   "outputs": [],
   "source": [
    "MyReverseDiff.backward!(dense_order)"
   ]
  },
  {
   "cell_type": "markdown",
   "id": "dd960c7a",
   "metadata": {},
   "source": [
    "##  Max Pool (4,) CNN Forward"
   ]
  },
  {
   "cell_type": "code",
   "execution_count": 32,
   "id": "5168a1ee",
   "metadata": {},
   "outputs": [
    {
     "data": {
      "text/plain": [
       "2×4×2 Array{Float32, 3}:\n",
       "[:, :, 1] =\n",
       "  1.0  10.0  5.0   1.0\n",
       " -0.0   0.5  0.0  -0.0\n",
       "\n",
       "[:, :, 2] =\n",
       "  1.0  -0.0  5.0   1.0\n",
       " -0.0  -0.0  0.0  -0.0"
      ]
     },
     "metadata": {},
     "output_type": "display_data"
    }
   ],
   "source": [
    "X = dense_forward_pass"
   ]
  },
  {
   "cell_type": "code",
   "execution_count": 33,
   "id": "18c7c56a",
   "metadata": {},
   "outputs": [
    {
     "data": {
      "text/plain": [
       "3-element Vector{GraphNode}:\n",
       " const Float32[1.0 10.0 5.0 1.0; -0.0 0.5 0.0 -0.0;;; 1.0 -0.0 5.0 1.0; -0.0 -0.0 0.0 -0.0]\n",
       " const Float32[4.0;;]\n",
       " op.?(typeof(max_pool))"
      ]
     },
     "metadata": {},
     "output_type": "display_data"
    }
   ],
   "source": [
    "max_pooling_layer = MyMlp.PoolingBlock(4)\n",
    "pooling_input = MyReverseDiff.Constant(X)\n",
    "\n",
    "mat = [4.0f0]  # tworzy 1×1 macierz\n",
    "mat = reshape(mat, 1, 1)  # zapewnia, że jest to macierz 1×1\n",
    "pooling_window = MyReverseDiff.Constant(mat)  # Okno poolingowe o rozmiarze 4\n",
    "\n",
    "pooling_output_node = max_pool(pooling_input, pooling_window)\n",
    "pooling_order = MyReverseDiff.topological_sort(pooling_output_node)"
   ]
  },
  {
   "cell_type": "code",
   "execution_count": 34,
   "id": "d1657225",
   "metadata": {},
   "outputs": [
    {
     "data": {
      "text/plain": [
       "0×4×2 Array{Float32, 3}"
      ]
     },
     "metadata": {},
     "output_type": "display_data"
    }
   ],
   "source": [
    "pooling_forward_pass = MyReverseDiff.forward!(pooling_order)"
   ]
  }
 ],
 "metadata": {
  "kernelspec": {
   "display_name": "Julia 1.11.0",
   "language": "julia",
   "name": "julia-1.11"
  },
  "language_info": {
   "file_extension": ".jl",
   "mimetype": "application/julia",
   "name": "julia",
   "version": "1.11.0"
  }
 },
 "nbformat": 4,
 "nbformat_minor": 5
}
