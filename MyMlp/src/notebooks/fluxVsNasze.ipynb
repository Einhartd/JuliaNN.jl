{
 "cells": [
  {
   "cell_type": "markdown",
   "id": "e0ee52a9",
   "metadata": {},
   "source": [
    "#   Setup modułów"
   ]
  },
  {
   "cell_type": "code",
   "execution_count": 1,
   "id": "e6601c0d",
   "metadata": {},
   "outputs": [],
   "source": [
    "include(\"../MyReverseDiff.jl\")\n",
    "include(\"../MyEmbedding.jl\")\n",
    "include(\"../MyMlp.jl\")\n",
    "\n",
    "using .MyReverseDiff\n",
    "using .MyMlp\n",
    "using JLD2\n",
    "using Printf\n",
    "using Random\n",
    "using Flux\n",
    "using Zygote"
   ]
  },
  {
   "cell_type": "markdown",
   "id": "74c25abd",
   "metadata": {},
   "source": [
    "#   Przygotowanie danych"
   ]
  },
  {
   "cell_type": "code",
   "execution_count": 2,
   "id": "bf07a634",
   "metadata": {},
   "outputs": [
    {
     "data": {
      "text/plain": [
       "50×12849 Matrix{Float32}:\n",
       "  0.90951   -0.58014    0.27137   0.68397   …   0.45505     0.014323  0.0\n",
       " -0.20702   -1.1316     0.61347  -0.68729      -0.0014904  -0.74624   0.0\n",
       " -0.090611   0.44189   -0.52498   0.8797       -0.45487     0.35701   0.0\n",
       " -0.63721   -0.048199  -0.7617   -0.35249      -0.15543     0.75488   0.0\n",
       "  0.051387  -0.11754    0.37252   0.82288      -1.2866      0.11551   0.0\n",
       " -0.26292    0.97308    0.21401  -0.17179   …  -0.10727    -0.37074   0.0\n",
       "  0.14454    1.0075    -1.0817   -1.4887        0.37509     0.80859   0.0\n",
       "  0.40134   -1.2014     0.16501   0.98021       0.85616    -0.64355   0.0\n",
       "  0.17305   -1.2752    -0.45105   0.031865     -0.045315   -0.63822   0.0\n",
       " -0.23503    0.66842   -0.77013  -0.7007       -0.3152      0.74175   0.0\n",
       "  ⋮                                         ⋱                         \n",
       " -0.2502     0.54529    0.8323   -0.28752      -0.057228    0.36188   0.0\n",
       "  0.37538    0.68665   -0.63336   1.0756        1.1033     -0.79495   0.0\n",
       "  1.1403     0.52264   -0.32116  -0.82327       0.45043     0.30696   0.0\n",
       "  0.023104  -0.24133    0.21277   1.1868        0.03035     0.10232   0.0\n",
       " -0.7756     0.46689    0.47812  -1.314     …  -0.71941     0.25723   0.0\n",
       " -0.47407    0.15747   -0.41281  -0.84801       0.36268     0.82578   0.0\n",
       " -0.77261   -0.056616  -1.7192   -0.16565      -1.0215     -0.46867   0.0\n",
       " -0.60396    0.1722    -0.26018   0.10431       0.98155    -0.079873  0.0\n",
       " -0.31136    1.2622     0.57005  -1.1544       -0.50673    -0.89164   0.0"
      ]
     },
     "metadata": {},
     "output_type": "display_data"
    }
   ],
   "source": [
    "X_train = load(\"../../dataset/imdb_dataset_prepared.jld2\", \"X_train\");\n",
    "y_train = load(\"../../dataset/imdb_dataset_prepared.jld2\", \"y_train\");\n",
    "X_test = load(\"../../dataset/imdb_dataset_prepared.jld2\", \"X_test\");\n",
    "y_test = load(\"../../dataset/imdb_dataset_prepared.jld2\", \"y_test\");\n",
    "embeddings = load(\"../../dataset/imdb_dataset_prepared.jld2\", \"embeddings\")\n"
   ]
  },
  {
   "cell_type": "code",
   "execution_count": 3,
   "id": "fec35802",
   "metadata": {},
   "outputs": [
    {
     "data": {
      "text/plain": [
       "1×1 Matrix{Float32}:\n",
       " 0.0"
      ]
     },
     "metadata": {},
     "output_type": "display_data"
    }
   ],
   "source": [
    "x_batch = X_train[:, 1]\n",
    "y_batch = y_train[1]\n",
    "x_batch_matrix = Int64.(reshape(x_batch, :, 1))\n",
    "y_batch_matrix = Float32.(reshape([y_batch], 1, 1))"
   ]
  },
  {
   "cell_type": "markdown",
   "id": "c95f61bd",
   "metadata": {},
   "source": [
    "# Flux 1 batch, 1 przejscie forward backward"
   ]
  },
  {
   "cell_type": "markdown",
   "id": "6ad60bc2",
   "metadata": {},
   "source": [
    "##  Przygotowanie modelu"
   ]
  },
  {
   "cell_type": "code",
   "execution_count": 22,
   "id": "255e5d50",
   "metadata": {},
   "outputs": [],
   "source": [
    "f_model = Flux.Chain(\n",
    "    Flux.Embedding(size(embeddings, 2), size(embeddings, 1)),\n",
    "    x->permutedims(x, (2,1,3)),\n",
    "    Conv((3,), size(embeddings, 1) => 8, Flux.relu),\n",
    "    MaxPool((8,)),\n",
    "    Flux.flatten,\n",
    "    Flux.Dense(128, 1, Flux.σ)\n",
    ")\n",
    "\n",
    "f_model.layers[1].weight .= embeddings;"
   ]
  },
  {
   "cell_type": "markdown",
   "id": "5ba47399",
   "metadata": {},
   "source": [
    "##  Wyciągnięcie zainicjowanych wag modelu"
   ]
  },
  {
   "cell_type": "code",
   "execution_count": 23,
   "id": "c55971fc",
   "metadata": {},
   "outputs": [
    {
     "data": {
      "text/plain": [
       "1-element Vector{Float32}:\n",
       " 0.0"
      ]
     },
     "metadata": {},
     "output_type": "display_data"
    }
   ],
   "source": [
    "all_params = Flux.params(f_model)\n",
    "params_array = collect(all_params)\n",
    "\n",
    "f_embedding_weights = params_array[1]  # Zwykle pierwsza warstwa\n",
    "f_conv_weights = params_array[2]       # Wagi konwolucji\n",
    "f_conv_bias = params_array[3]          # Bias konwolucji  \n",
    "f_dense_weights = params_array[4]      # Wagi Dense\n",
    "f_dense_bias = params_array[5]         # Bias Dense"
   ]
  },
  {
   "cell_type": "markdown",
   "id": "d4f89852",
   "metadata": {},
   "source": [
    "##  Przejscie forward, backward"
   ]
  },
  {
   "cell_type": "code",
   "execution_count": 6,
   "id": "8cec65c0",
   "metadata": {},
   "outputs": [
    {
     "name": "stdout",
     "output_type": "stream",
     "text": [
      "=== FORWARD PASS ===\n",
      "Predykcja: Float32[0.8154277;;]\n",
      "Loss: 1.6897135\n"
     ]
    }
   ],
   "source": [
    "# Jeśli chcesz mieć wyraźny podział na forward i backward\n",
    "println(\"=== FORWARD PASS ===\")\n",
    "f_prediction = f_model(x_batch_matrix)\n",
    "println(\"Predykcja: \", f_prediction)\n",
    "\n",
    "# Oblicz loss bez backward pass\n",
    "f_loss = Flux.Losses.binarycrossentropy(f_prediction, y_batch_matrix)\n",
    "println(\"Loss: \", f_loss)"
   ]
  },
  {
   "cell_type": "code",
   "execution_count": 9,
   "id": "7ae5d249",
   "metadata": {},
   "outputs": [
    {
     "name": "stdout",
     "output_type": "stream",
     "text": [
      "\n",
      "=== BACKWARD PASS ===\n"
     ]
    },
    {
     "name": "stderr",
     "output_type": "stream",
     "text": [
      "┌ Warning: Implicit gradients such as `gradient(f, ::Params)` are deprecated in Flux!\n",
      "│ Please see the docs for new explicit form.\n",
      "│   caller = top-level scope at jl_notebook_cell_df34fa98e69747e1a8f8a730347b8e2f_X15sZmlsZQ==.jl:2\n",
      "└ @ Core /home/oliwier/Repos/AWiD/MyMlp/src/notebooks/jl_notebook_cell_df34fa98e69747e1a8f8a730347b8e2f_X15sZmlsZQ==.jl:2\n"
     ]
    },
    {
     "data": {
      "text/plain": [
       "Grads(...)"
      ]
     },
     "metadata": {},
     "output_type": "display_data"
    }
   ],
   "source": [
    "println(\"\\n=== BACKWARD PASS ===\")\n",
    "gradients = Flux.gradient(Flux.params(f_model)) do\n",
    "    # To wykonuje forward pass ponownie, ale w kontekście gradientów\n",
    "    \n",
    "    loss = Flux.Losses.binarycrossentropy(f_model(x_batch_matrix), y_batch_matrix)\n",
    "    return loss\n",
    "end"
   ]
  },
  {
   "cell_type": "code",
   "execution_count": 10,
   "id": "6a9e5104",
   "metadata": {},
   "outputs": [
    {
     "data": {
      "text/plain": [
       "128×8×1 Array{Float32, 3}:\n",
       "[:, :, 1] =\n",
       "  0.0         0.0        -0.153315  …  0.139678    0.0         0.0\n",
       "  0.0        -0.0782701   0.0          0.0         0.0         0.0\n",
       "  0.0         0.0         0.0          0.0         0.0         0.0\n",
       "  0.0         0.0         0.0          0.0         0.0         0.0\n",
       "  0.139928    0.0         0.0          0.0        -0.153387    0.0\n",
       "  0.0         0.0         0.0       …  0.0         0.0        -0.0603627\n",
       "  0.0         0.0         0.0          0.0         0.0         0.0\n",
       "  0.0         0.0         0.0          0.0         0.0         0.0\n",
       "  0.0         0.0         0.0          0.0         0.0         0.0\n",
       "  0.0         0.0         0.0          0.0         0.0         0.0\n",
       "  ⋮                                 ⋱  ⋮                      \n",
       "  0.0         0.0         0.0          0.0         0.0         0.0\n",
       " -0.0340818   0.132149    0.17002   …  0.0323642  -0.0579769  -0.0406392\n",
       "  0.0         0.0         0.0          0.0         0.0         0.0\n",
       "  0.0         0.0         0.0          0.0         0.0         0.0\n",
       "  0.0         0.0         0.0          0.0         0.0         0.0\n",
       "  0.0         0.0         0.0          0.0         0.0         0.0\n",
       "  0.0         0.0         0.0       …  0.0         0.0         0.0\n",
       "  0.0         0.0         0.0          0.0         0.0         0.0\n",
       "  0.0         0.0         0.0          0.0         0.0         0.0"
      ]
     },
     "metadata": {},
     "output_type": "display_data"
    }
   ],
   "source": [
    "    # Fallback - ręczne obliczenie gradientu\n",
    "    function get_conv_gradient()\n",
    "        x1 = f_model[1](x_batch_matrix)\n",
    "        x2 = f_model[2](x1)\n",
    "        conv_out = f_model[3](x2)\n",
    "        \n",
    "        grad = Zygote.gradient(conv_out -> begin\n",
    "            x4 = f_model[4](conv_out)\n",
    "            x5 = f_model[5](x4)\n",
    "            pred = f_model[6](x5)\n",
    "            Flux.Losses.binarycrossentropy(pred, y_batch_matrix)\n",
    "        end, conv_out)[1]\n",
    "        \n",
    "        return grad\n",
    "    end\n",
    "    \n",
    "    gradient_from_conv = get_conv_gradient()"
   ]
  },
  {
   "cell_type": "code",
   "execution_count": 11,
   "id": "7cd9c2cd",
   "metadata": {},
   "outputs": [
    {
     "data": {
      "text/plain": [
       "1-element Vector{Float32}:\n",
       " 0.8154272"
      ]
     },
     "metadata": {},
     "output_type": "display_data"
    }
   ],
   "source": [
    "# Zapisz gradienty do zmiennych\n",
    "params_list = collect(Flux.params(f_model))\n",
    "f_grad_embedding = gradients[params_list[1]]\n",
    "f_grad_conv_weights = gradients[params_list[2]]\n",
    "\n",
    "f_grad_conv_bias = gradients[params_list[3]]\n",
    "f_grad_conv_bias = reshape(f_grad_conv_bias, 1, length(f_grad_conv_bias))\n",
    "\n",
    "f_grad_dense_weights = gradients[params_list[4]]\n",
    "f_grad_dense_bias = gradients[params_list[5]]"
   ]
  },
  {
   "cell_type": "markdown",
   "id": "6556610b",
   "metadata": {},
   "source": [
    "# Nasz CNN 1 batch, 1 przejście forward, backward"
   ]
  },
  {
   "cell_type": "markdown",
   "id": "f215cabe",
   "metadata": {},
   "source": [
    "##  Przygotowanie modelu"
   ]
  },
  {
   "cell_type": "code",
   "execution_count": 4,
   "id": "7e4b911d",
   "metadata": {},
   "outputs": [
    {
     "data": {
      "text/plain": [
       "(op loss(typeof(Main.MyReverseDiff.binary_cross_entropy_loss_impl)), op.softnet_sigmoid(typeof(Main.MyReverseDiff.σ)), GraphNode[var softnet_w\n",
       " ┣━ ^ 1×128 Matrix{Float32}\n",
       " ┗━ ∇ 1×128 Matrix{Float32}, var embedding_W\n",
       " ┣━ ^ 50×12849 Matrix{Float32}\n",
       " ┗━ ∇ 50×12849 Matrix{Float32}, const Float32[6391.0; 143.0; … ; 12849.0; 12849.0;;], op.embedding_output(typeof(Main.MyEmbedding.embedding)), op.transposition(typeof(Main.MyReverseDiff.transpose)), var layer1_masks_w\n",
       " ┣━ ^ 3×50×8 Array{Float32, 3}\n",
       " ┗━ ∇ 3×50×8 Array{Float32, 3}, op.layer1_conv(typeof(Main.MyReverseDiff.conv)), var layer1_masks_b\n",
       " ┣━ ^ 1×8 Matrix{Float32}\n",
       " ┗━ ∇ 1×8 Matrix{Float32}, op.layer1_bias(typeof(+)), op.layer1_activation(typeof(Main.MyReverseDiff.relu)), const Float32[8.0;;], op.pooling_pool(typeof(max_pool)), op.flatten(typeof(flatten)), op.softnet_mul(typeof(LinearAlgebra.mul!)), var softnet_b\n",
       " ┣━ ^ 1×1 Matrix{Float32}\n",
       " ┗━ ∇ 1×1 Matrix{Float32}, op.softnet_add(typeof(+)), op.softnet_sigmoid(typeof(Main.MyReverseDiff.σ)), const Float32[0.0;;], op loss(typeof(Main.MyReverseDiff.binary_cross_entropy_loss_impl))])"
      ]
     },
     "metadata": {},
     "output_type": "display_data"
    }
   ],
   "source": [
    "model = MyMlp.Chain(\n",
    "    MyMlp.Embedding(embeddings, name=\"embedding\"),\n",
    "    MyMlp.TransposeBlock(),\n",
    "    MyMlp.ConvolutionBlock(3,50,8, name=\"layer1\"),\n",
    "    MyMlp.PoolingBlock(8),\n",
    "    MyMlp.FlattenBlock(name=\"flatten\"),\n",
    "    MyMlp.Dense(size(X_train, 1)-2, 1, MyMlp.σ, name=\"softnet\")\n",
    ")\n",
    "\n",
    "x_input_node = Constant(Float32.(x_batch_matrix))\n",
    "y_label_node = Constant(y_batch_matrix)\n",
    "\n",
    "\n",
    "#   Budowanie grafu treningowego\n",
    "loss_node, model_output_node, order = build_graph!(model, binarycrossentropy, x_input_node, y_label_node; loss_name=\"loss\")"
   ]
  },
  {
   "cell_type": "markdown",
   "id": "e2c6b9ca",
   "metadata": {},
   "source": [
    "##  Przeniesienie wag z Flux"
   ]
  },
  {
   "cell_type": "code",
   "execution_count": 13,
   "id": "64c6e421",
   "metadata": {},
   "outputs": [
    {
     "data": {
      "text/plain": [
       "1×1 adjoint(::Matrix{Float32}) with eltype Float32:\n",
       " 0.0"
      ]
     },
     "metadata": {},
     "output_type": "display_data"
    }
   ],
   "source": [
    "order[2].output=f_embedding_weights\n",
    "\n",
    "order[6].output=reverse(f_conv_weights, dims=1)\n",
    "\n",
    "order[8].output=reshape(f_conv_bias, length(f_conv_bias), 1)'\n",
    "\n",
    "order[1].output=f_dense_weights\n",
    "\n",
    "order[15].output=reshape(f_dense_bias, length(f_dense_bias), 1)'"
   ]
  },
  {
   "cell_type": "code",
   "execution_count": 14,
   "id": "252bfd9c",
   "metadata": {},
   "outputs": [
    {
     "name": "stdout",
     "output_type": "stream",
     "text": [
      "Embedding: true\n",
      "Conv weights: true\n",
      "Conv bias: true\n",
      "Dense weights: true\n",
      "Dense bias: true\n"
     ]
    }
   ],
   "source": [
    "println(\"Embedding: \", isapprox(order[2].output, f_embedding_weights))\n",
    "println(\"Conv weights: \", isapprox(reverse(order[6].output, dims=1), f_conv_weights))\n",
    "println(\"Conv bias: \", isapprox(order[8].output', f_conv_bias))\n",
    "println(\"Dense weights: \", isapprox(order[1].output, f_dense_weights))\n",
    "println(\"Dense bias: \", isapprox(order[15].output', f_dense_bias))"
   ]
  },
  {
   "cell_type": "markdown",
   "id": "2e687c4f",
   "metadata": {},
   "source": [
    "##  Przejście forward i backward"
   ]
  },
  {
   "cell_type": "code",
   "execution_count": 5,
   "id": "1ac86faf",
   "metadata": {},
   "outputs": [
    {
     "data": {
      "text/plain": [
       "1×1 Matrix{Float32}:\n",
       " 0.22793055"
      ]
     },
     "metadata": {},
     "output_type": "display_data"
    }
   ],
   "source": [
    "loss = forward!(order)\n",
    "prediction = model_output_node.output"
   ]
  },
  {
   "cell_type": "code",
   "execution_count": 6,
   "id": "1ccd6244",
   "metadata": {},
   "outputs": [],
   "source": [
    "backward!(order)"
   ]
  },
  {
   "cell_type": "code",
   "execution_count": 7,
   "id": "f90a77dc",
   "metadata": {},
   "outputs": [
    {
     "data": {
      "text/plain": [
       "50-element Vector{Float32}:\n",
       " -0.003311243\n",
       " -0.0021821815\n",
       "  0.00012774358\n",
       "  0.016228314\n",
       " -0.004325994\n",
       " -0.0004145885\n",
       " -0.0029961865\n",
       " -0.01029325\n",
       " -0.0070450525\n",
       "  0.0076419823\n",
       "  ⋮\n",
       "  0.004769509\n",
       " -0.0019003567\n",
       " -0.00490231\n",
       " -0.0032707406\n",
       " -0.0087365005\n",
       "  0.0036606088\n",
       "  0.0031178193\n",
       "  0.002676794\n",
       "  0.0027534144"
      ]
     },
     "metadata": {},
     "output_type": "display_data"
    }
   ],
   "source": [
    "order[4].gradient[:, 1, 1]"
   ]
  },
  {
   "cell_type": "code",
   "execution_count": 8,
   "id": "1416cdd7",
   "metadata": {},
   "outputs": [
    {
     "data": {
      "text/plain": [
       "50-element Vector{Float32}:\n",
       " -0.003311243\n",
       " -0.0021821815\n",
       "  0.00012774358\n",
       "  0.016228314\n",
       " -0.004325994\n",
       " -0.0004145885\n",
       " -0.0029961865\n",
       " -0.01029325\n",
       " -0.0070450525\n",
       "  0.0076419823\n",
       "  ⋮\n",
       "  0.004769509\n",
       " -0.0019003567\n",
       " -0.00490231\n",
       " -0.0032707406\n",
       " -0.0087365005\n",
       "  0.0036606088\n",
       "  0.0031178193\n",
       "  0.002676794\n",
       "  0.0027534144"
      ]
     },
     "metadata": {},
     "output_type": "display_data"
    }
   ],
   "source": [
    "order[5].gradient[1, :, 1]"
   ]
  },
  {
   "cell_type": "markdown",
   "id": "9dfa7589",
   "metadata": {},
   "source": [
    "#   Porownanie forward dla Flux i naszego"
   ]
  },
  {
   "cell_type": "code",
   "execution_count": 14,
   "id": "eb526f67",
   "metadata": {},
   "outputs": [
    {
     "data": {
      "text/plain": [
       "true"
      ]
     },
     "metadata": {},
     "output_type": "display_data"
    }
   ],
   "source": [
    "isapprox(f_prediction[1], prediction[1])"
   ]
  },
  {
   "cell_type": "code",
   "execution_count": 15,
   "id": "7688cbb1",
   "metadata": {},
   "outputs": [
    {
     "name": "stdout",
     "output_type": "stream",
     "text": [
      "Po Embedding: (50, 130, 1)\n",
      "Po permutedims: (130, 50, 1)\n",
      "Po Conv: (128, 8, 1)\n",
      "Po MaxPool: (16, 8, 1)\n",
      "Po flatten: (128, 1)\n",
      "Final output: Float32[0.8352198;;]\n"
     ]
    }
   ],
   "source": [
    "# Bezpośredni dostęp do warstw\n",
    "f_x = reshape(Int.(x_batch), length(x_batch), 1)\n",
    "\n",
    "# Krok po kroku\n",
    "f_x1 = f_model[1](f_x)          # Embedding\n",
    "println(\"Po Embedding: \", size(f_x1))\n",
    "\n",
    "f_x2 = f_model[2](f_x1)         # permutedims\n",
    "println(\"Po permutedims: \", size(f_x2))\n",
    "\n",
    "f_x3 = f_model[3](f_x2)         # Conv\n",
    "println(\"Po Conv: \", size(f_x3))\n",
    "\n",
    "f_x4 = f_model[4](f_x3)         # MaxPool\n",
    "println(\"Po MaxPool: \", size(f_x4))\n",
    "\n",
    "f_x5 = f_model[5](f_x4)         # flatten\n",
    "println(\"Po flatten: \", size(f_x5))\n",
    "\n",
    "f_output = f_model[6](f_x5)     # Dense\n",
    "println(\"Final output: \", f_output)"
   ]
  },
  {
   "cell_type": "code",
   "execution_count": 16,
   "id": "01309bba",
   "metadata": {},
   "outputs": [
    {
     "name": "stdout",
     "output_type": "stream",
     "text": [
      "Embedding output: true\n",
      "Permutedims output: true\n",
      "Conv output: true\n",
      "MaxPool output: true\n",
      "Flatten output: true\n",
      "Dense output: true\n",
      "Loss output: true\n"
     ]
    }
   ],
   "source": [
    "# output Embedding\n",
    "println(\"Embedding output: \", isapprox(order[4].output, f_x1))\n",
    "# output permutedims\n",
    "println(\"Permutedims output: \", isapprox(order[5].output, f_x2))\n",
    "# output Conv\n",
    "println(\"Conv output: \", isapprox(order[10].output, f_x3))\n",
    "# output MaxPool\n",
    "println(\"MaxPool output: \", isapprox(order[12].output, f_x4))\n",
    "# output flatten\n",
    "println(\"Flatten output: \", isapprox(order[13].output, f_x5))\n",
    "# output Dense\n",
    "println(\"Dense output: \", isapprox(order[17].output, f_output))\n",
    "# output loss\n",
    "println(\"Loss output: \", isapprox(loss, f_loss))"
   ]
  },
  {
   "cell_type": "markdown",
   "id": "a35c124a",
   "metadata": {},
   "source": [
    "# Porównanie backward dla Flux i naszego"
   ]
  },
  {
   "cell_type": "code",
   "execution_count": 17,
   "id": "cdc2b57f",
   "metadata": {},
   "outputs": [
    {
     "data": {
      "text/plain": [
       "1×8 Matrix{Float32}:\n",
       " 0.195691  -0.315396  -0.218871  -0.7107  …  0.677441  0.64355  0.19432"
      ]
     },
     "metadata": {},
     "output_type": "display_data"
    }
   ],
   "source": [
    "grad_embedding = order[2].gradient\n",
    "grad_dense_weights = order[1].gradient\n",
    "grad_dense_bias = order[15].gradient\n",
    "grad_conv_weights = reverse(order[6].gradient, dims=1)\n",
    "grad_conv_bias = order[8].gradient"
   ]
  },
  {
   "cell_type": "code",
   "execution_count": 18,
   "id": "58b525ab",
   "metadata": {},
   "outputs": [
    {
     "name": "stdout",
     "output_type": "stream",
     "text": [
      "Dense bias grad: true\n",
      "Dense weights grad: true\n",
      "Conv weights grad: true\n",
      "Conv bias grad: true\n",
      "Embedding grad: false\n"
     ]
    }
   ],
   "source": [
    "println(\"Dense bias grad: \", isapprox(grad_dense_bias, f_grad_dense_bias))\n",
    "println(\"Dense weights grad: \", isapprox(grad_dense_weights, f_grad_dense_weights))\n",
    "println(\"Conv weights grad: \", isapprox(grad_conv_weights, f_grad_conv_weights))\n",
    "println(\"Conv bias grad: \", isapprox(grad_conv_bias, f_grad_conv_bias))\n",
    "println(\"Embedding grad: \", isapprox(grad_embedding, f_grad_embedding))"
   ]
  }
 ],
 "metadata": {
  "kernelspec": {
   "display_name": "Julia 1.11.0",
   "language": "julia",
   "name": "julia-1.11"
  },
  "language_info": {
   "file_extension": ".jl",
   "mimetype": "application/julia",
   "name": "julia",
   "version": "1.11.0"
  }
 },
 "nbformat": 4,
 "nbformat_minor": 5
}
