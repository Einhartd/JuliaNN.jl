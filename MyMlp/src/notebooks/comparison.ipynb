{
 "cells": [
  {
   "cell_type": "code",
   "execution_count": 7,
   "id": "58ca4e9f",
   "metadata": {},
   "outputs": [
    {
     "name": "stderr",
     "output_type": "stream",
     "text": [
      "WARNING: replacing module MyReverseDiff.\n",
      "WARNING: replacing module MyEmbedding.\n",
      "WARNING: replacing module MyMlp.\n",
      "WARNING: replacing module TensorOperations.\n"
     ]
    },
    {
     "ename": "KeyError",
     "evalue": "KeyError: key \"AbstractFFTs\" not found",
     "output_type": "error",
     "traceback": [
      "KeyError: key \"AbstractFFTs\" not found\n",
      "\n",
      "Stacktrace:\n",
      "  [1] getindex\n",
      "    @ .\\dict.jl:477 [inlined]\n",
      "  [2] Base.Precompilation.ExplicitEnv(envpath::String)\n",
      "    @ Base.Precompilation .\\precompilation.jl:204\n",
      "  [3] Base.Precompilation.ExplicitEnv()\n",
      "    @ Base.Precompilation .\\precompilation.jl:29\n",
      "  [4] _precompilepkgs(pkgs::Vector{String}, internal_call::Bool, strict::Bool, warn_loaded::Bool, timing::Bool, _from_loading::Bool, configs::Vector{Pair{Cmd, Base.CacheFlags}}, io::IOContext{IO}, fancyprint::Bool, ignore_loaded::Bool)\n",
      "    @ Base.Precompilation .\\precompilation.jl:429\n",
      "  [5] precompilepkgs(pkgs::Vector{String}; internal_call::Bool, strict::Bool, warn_loaded::Bool, timing::Bool, _from_loading::Bool, configs::Pair{Cmd, Base.CacheFlags}, io::VSCodeServer.IJuliaCore.IJuliaStdio{Base.PipeEndpoint, typeof(VSCodeServer.io_send_callback)}, fancyprint::Bool, ignore_loaded::Bool)\n",
      "    @ Base.Precompilation .\\precompilation.jl:410\n",
      "  [6] _require(pkg::Base.PkgId, env::String)\n",
      "    @ Base .\\loading.jl:2558\n",
      "  [7] __require_prelocked(uuidkey::Base.PkgId, env::String)\n",
      "    @ Base .\\loading.jl:2388\n",
      "  [8] #invoke_in_world#3\n",
      "    @ .\\essentials.jl:1089 [inlined]\n",
      "  [9] invoke_in_world\n",
      "    @ .\\essentials.jl:1086 [inlined]\n",
      " [10] _require_prelocked(uuidkey::Base.PkgId, env::String)\n",
      "    @ Base .\\loading.jl:2375\n",
      " [11] macro expansion\n",
      "    @ .\\loading.jl:2314 [inlined]\n",
      " [12] macro expansion\n",
      "    @ .\\lock.jl:273 [inlined]\n",
      " [13] __require(into::Module, mod::Symbol)\n",
      "    @ Base .\\loading.jl:2271\n",
      " [14] #invoke_in_world#3\n",
      "    @ .\\essentials.jl:1089 [inlined]\n",
      " [15] invoke_in_world\n",
      "    @ .\\essentials.jl:1086 [inlined]\n",
      " [16] require(into::Module, mod::Symbol)\n",
      "    @ Base .\\loading.jl:2260\n",
      " [17] eval\n",
      "    @ .\\boot.jl:430 [inlined]\n",
      " [18] include_string(mapexpr::typeof(REPL.softscope), mod::Module, code::String, filename::String)\n",
      "    @ Base .\\loading.jl:2734\n",
      " [19] #invokelatest#2\n",
      "    @ .\\essentials.jl:1055 [inlined]\n",
      " [20] invokelatest\n",
      "    @ .\\essentials.jl:1052 [inlined]\n",
      " [21] (::VSCodeServer.var\"#217#218\"{VSCodeServer.NotebookRunCellArguments, String})()\n",
      "    @ VSCodeServer c:\\Users\\RetailAdmin\\.vscode\\extensions\\julialang.language-julia-1.141.2\\scripts\\packages\\VSCodeServer\\src\\serve_notebook.jl:24\n",
      " [22] withpath(f::VSCodeServer.var\"#217#218\"{VSCodeServer.NotebookRunCellArguments, String}, path::String)\n",
      "    @ VSCodeServer c:\\Users\\RetailAdmin\\.vscode\\extensions\\julialang.language-julia-1.141.2\\scripts\\packages\\VSCodeServer\\src\\repl.jl:276\n",
      " [23] notebook_runcell_request(conn::VSCodeServer.JSONRPC.JSONRPCEndpoint{Base.PipeEndpoint, Base.PipeEndpoint, VSCodeServer.JSON.Serializations.StandardSerialization}, params::VSCodeServer.NotebookRunCellArguments, token::VSCodeServer.CancellationTokens.CancellationToken)\n",
      "    @ VSCodeServer c:\\Users\\RetailAdmin\\.vscode\\extensions\\julialang.language-julia-1.141.2\\scripts\\packages\\VSCodeServer\\src\\serve_notebook.jl:13\n",
      " [24] dispatch_msg(x::VSCodeServer.JSONRPC.JSONRPCEndpoint{Base.PipeEndpoint, Base.PipeEndpoint, VSCodeServer.JSON.Serializations.StandardSerialization}, dispatcher::VSCodeServer.JSONRPC.MsgDispatcher, msg::VSCodeServer.JSONRPC.Request)\n",
      "    @ VSCodeServer.JSONRPC c:\\Users\\RetailAdmin\\.vscode\\extensions\\julialang.language-julia-1.141.2\\scripts\\packages\\JSONRPC\\src\\typed.jl:68\n",
      " [25] serve_notebook(pipename::String, debugger_pipename::String, outputchannel_logger::Base.CoreLogging.SimpleLogger; error_handler::var\"#5#10\"{String})\n",
      "    @ VSCodeServer c:\\Users\\RetailAdmin\\.vscode\\extensions\\julialang.language-julia-1.141.2\\scripts\\packages\\VSCodeServer\\src\\serve_notebook.jl:147\n",
      " [26] top-level scope\n",
      "    @ c:\\Users\\RetailAdmin\\.vscode\\extensions\\julialang.language-julia-1.141.2\\scripts\\notebook\\notebook.jl:35"
     ]
    }
   ],
   "source": [
    "include(\"../MyReverseDiff.jl\")\n",
    "include(\"../MyEmbedding.jl\")\n",
    "include(\"../MyMlp.jl\")\n",
    "include(\"../TensorOperations.jl\")\n",
    "\n",
    "using .MyReverseDiff\n",
    "using .MyMlp\n",
    "using .TensorOperations\n",
    "using JLD2\n",
    "using Printf\n",
    "using Random\n",
    "using Flux"
   ]
  },
  {
   "cell_type": "code",
   "execution_count": null,
   "id": "bb9eb5df",
   "metadata": {},
   "outputs": [
    {
     "data": {
      "text/plain": [
       "3×3×2 Array{Float32, 3}:\n",
       "[:, :, 1] =\n",
       "  1.0557    0.944897   1.04285\n",
       " -1.78939  -2.58384   -2.15422\n",
       " -1.54792   1.88677    0.565789\n",
       "\n",
       "[:, :, 2] =\n",
       "  1.78599   -0.656651   0.850447\n",
       " -1.28118   -1.65133    0.604299\n",
       " -0.569459   2.18384   -0.206739"
      ]
     },
     "metadata": {},
     "output_type": "display_data"
    }
   ],
   "source": [
    "x = randn(Float32, 3, 3, 2)\n",
    "m = randn(Float32, 3, 1)\n",
    "g = ones(Float32, size(x, 1), size(x, 2) * size(m, 2), size(x, 3))\n",
    "\n",
    "\n",
    "#@btime MyReverseDiff.dif_convolution(x, m, g)\n",
    "#MyReverseDiff.multi_convolution(x,m)\n",
    "Flux.conv(x,m)"
   ]
  }
 ],
 "metadata": {
  "kernelspec": {
   "display_name": "Julia 1.11.4",
   "language": "julia",
   "name": "julia-1.11"
  },
  "language_info": {
   "file_extension": ".jl",
   "mimetype": "application/julia",
   "name": "julia",
   "version": "1.11.4"
  }
 },
 "nbformat": 4,
 "nbformat_minor": 5
}
