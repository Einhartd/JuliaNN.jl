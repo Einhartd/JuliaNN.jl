{
 "cells": [
  {
   "cell_type": "code",
   "execution_count": 1,
   "id": "58ca4e9f",
   "metadata": {},
   "outputs": [],
   "source": [
    "include(\"../MyReverseDiff.jl\")\n",
    "include(\"../MyEmbedding.jl\")\n",
    "include(\"../MyMlp.jl\")\n",
    "include(\"../TensorOperations.jl\")\n",
    "\n",
    "using .MyReverseDiff\n",
    "using .MyMlp\n",
    "using .TensorOperations\n",
    "using JLD2\n",
    "using Printf\n",
    "using Random\n",
    "using Flux\n",
    "using LinearAlgebra"
   ]
  },
  {
   "cell_type": "markdown",
   "id": "43ab1712",
   "metadata": {},
   "source": [
    "# Convolution"
   ]
  },
  {
   "cell_type": "code",
   "execution_count": 61,
   "id": "bb9eb5df",
   "metadata": {},
   "outputs": [
    {
     "data": {
      "text/plain": [
       "(Float32[2.5; 6.0; … ; 13.0; 6.5;;;], Float32[34.0; 45.0;;])"
      ]
     },
     "metadata": {},
     "output_type": "display_data"
    }
   ],
   "source": [
    "xo = reshape([2.0f0 3.0f0 1.0f0 4.0f0 7.0f0],5,1,1)#randn(Float32, 2, 1, 1)\n",
    "m = reshape([1.0f0 2.5f0],2, 1, 1)#randn(Float32, 2, 1, 1)\n",
    "mm = reverse(reshape(m,2,1))\n",
    "g = diagm([1.0f0, 2.0f0, 3.0f0, 4.0f0, 1.0f0])*ones(Float32, size(xo, 1), size(xo, 2) * size(m, 2), size(xo, 3))\n",
    "\n",
    "\n",
    "#@btime MyReverseDiff.dif_convolution(x, m, g)\n",
    "ym = MyReverseDiff.multi_convolution(xo,mm)\n",
    "yf = Flux.conv(xo,m)\n",
    "dm = MyReverseDiff.dif_convolution(xo,mm,g)"
   ]
  },
  {
   "cell_type": "code",
   "execution_count": 66,
   "id": "7293eaf6",
   "metadata": {},
   "outputs": [
    {
     "data": {
      "text/plain": [
       "5×1×1 Array{Float32, 3}:\n",
       "[:, :, 1] =\n",
       " 34.0\n",
       " 45.0\n",
       " 30.0\n",
       " 18.0\n",
       "  7.0"
      ]
     },
     "metadata": {},
     "output_type": "display_data"
    }
   ],
   "source": [
    "MyReverseDiff.multi_convolution(xo,g[:,:,1])"
   ]
  },
  {
   "cell_type": "code",
   "execution_count": 63,
   "id": "5554ea2f",
   "metadata": {},
   "outputs": [
    {
     "data": {
      "text/plain": [
       "5×1×1 Array{Float32, 3}:\n",
       "[:, :, 1] =\n",
       " 32.0\n",
       " 23.0\n",
       " 13.0\n",
       "  7.0\n",
       "  2.0"
      ]
     },
     "metadata": {},
     "output_type": "display_data"
    }
   ],
   "source": [
    "MyReverseDiff.multi_convolution(reverse(xo),g[:,:,1])"
   ]
  },
  {
   "cell_type": "code",
   "execution_count": null,
   "id": "a67bde9c",
   "metadata": {},
   "outputs": [
    {
     "name": "stdout",
     "output_type": "stream",
     "text": [
      "Gradient względem wejścia (∂L/∂x):\n",
      "Float32[2.5; 6.0; 9.5; 13.0; 4.0;;;]\n",
      "\n",
      "Gradient względem maski (∂L/∂W):\n",
      "Float32[45.0; 27.0;;;]\n",
      "\n",
      "Gradient względem biasu (∂L/∂b):\n",
      "Float32[10.0]\n",
      "Float32[8.0; 17.0; 19.5; 68.0;;]\n"
     ]
    },
    {
     "name": "stderr",
     "output_type": "stream",
     "text": [
      "┌ Warning: Implicit gradients such as `gradient(f, ::Params)` are deprecated in Flux!\n",
      "│ Please see the docs for new explicit form.\n",
      "│   caller = top-level scope at jl_notebook_cell_df34fa98e69747e1a8f8a730347b8e2f_W3sZmlsZQ==.jl:21\n",
      "└ @ Core c:\\Users\\RetailAdmin\\Desktop\\AWiD\\MyMlp\\src\\notebooks\\jl_notebook_cell_df34fa98e69747e1a8f8a730347b8e2f_W3sZmlsZQ==.jl:21\n"
     ]
    }
   ],
   "source": [
    "using Flux\n",
    "using Flux: Conv, params\n",
    "using Random\n",
    "\n",
    "scale = diagm([1.0f0, 2.0f0, 3.0f0, 4.0f0])\n",
    "\n",
    "# 1. Dane wejściowe (obraz) i warstwa konwolucyjna\n",
    "Random.seed!(123)\n",
    "\n",
    "x = xo#rand(Float32, 5, 5, 1, 1)  # Obraz: 5×5, 1 kanał, batch size 1\n",
    "\n",
    "conv = Conv((2, ), 1 => 1, stride=1, pad=0)\n",
    "conv.weight .= m\n",
    "\n",
    "# 2. Gradient względem wejścia (∂L/∂x)\n",
    "grad_input = gradient(x -> sum(scale*reshape(conv(x),4,1)), x)[1]\n",
    "\n",
    "# 3. Gradient względem wag i biasów (∂L/∂W, ∂L/∂b)\n",
    "loss_fn() = sum(scale*reshape(conv(x),4,1))\n",
    "grads = gradient(loss_fn, params(conv))\n",
    "grad_weights = grads[conv.weight]\n",
    "grad_bias    = grads[conv.bias]\n",
    "\n",
    "# 4. Wyświetlenie wyników\n",
    "println(\"Gradient względem wejścia (∂L/∂x):\")\n",
    "println(grad_input)\n",
    "\n",
    "println(\"\\nGradient względem maski (∂L/∂W):\")\n",
    "println(grad_weights)\n",
    "\n",
    "println(\"\\nGradient względem biasu (∂L/∂b):\")\n",
    "println(grad_bias)\n",
    "\n",
    "println(scale*reshape(conv(x),4,1))\n"
   ]
  },
  {
   "cell_type": "markdown",
   "id": "52d88fa1",
   "metadata": {},
   "source": [
    "# Dense3D"
   ]
  },
  {
   "cell_type": "code",
   "execution_count": 3,
   "id": "4cf57695",
   "metadata": {},
   "outputs": [
    {
     "data": {
      "text/plain": [
       "(Float32[10.0 10.0 10.0; 11.0 11.0 11.0;;; 10.0 10.0 10.0; 11.0 11.0 11.0], Float32[11.5 12.5; 11.5 12.5], Float32[3.0; 3.0;;])"
      ]
     },
     "metadata": {},
     "output_type": "display_data"
    }
   ],
   "source": [
    "x = reshape([1.0f0 2.0f0 3.0f0 2.0f0 3.0f0 4.0f0 4.0f0 5.0f0 6.0f0 5.0f0 6.0f0 7.0f0],2,3,2)\n",
    "A = [6.0f0 9.0f0; 4.0f0 2.0f0]\n",
    "b = Matrix([1.0f0 2.0f0]')\n",
    "y = MyReverseDiff.dense3Dfun(x,A,b)\n",
    "g = ones(Float32, size(y))\n",
    "d = MyReverseDiff.dif_dense3Dfun(x,A,b,g)"
   ]
  },
  {
   "cell_type": "code",
   "execution_count": 9,
   "id": "7963d73d",
   "metadata": {},
   "outputs": [
    {
     "data": {
      "text/plain": [
       "2×2 Matrix{Float32}:\n",
       " 16.0  17.0\n",
       " 16.0  17.0"
      ]
     },
     "metadata": {},
     "output_type": "display_data"
    }
   ],
   "source": [
    "id = 1\n",
    "db = sum(g[:,:,id], dims=2)\n",
    "dA1 = g[:,:,1] * x[:,:,1]'\n",
    "dA2 = g[:,:,2] * x[:,:,2]'"
   ]
  },
  {
   "cell_type": "markdown",
   "id": "26b525b4",
   "metadata": {},
   "source": [
    "# Flatten"
   ]
  },
  {
   "cell_type": "code",
   "execution_count": 13,
   "id": "3af6d940",
   "metadata": {},
   "outputs": [
    {
     "name": "stdout",
     "output_type": "stream",
     "text": [
      "Float32[6.0 1.0 3.0; 7.0 2.0 4.0;;; 2.0 4.0 6.0; 3.0 5.0 5.0]\n",
      "Float32[6.0 1.0 3.0; 7.0 2.0 4.0;;; 2.0 4.0 6.0; 3.0 5.0 5.0]\n"
     ]
    }
   ],
   "source": [
    "x = reshape([6.0f0 7.0f0 1.0f0 2.0f0 3.0f0 4.0f0 2.0f0 3.0f0 4.0f0 5.0f0 6.0f0 5.0f0],2,3,2)\n",
    "println(x)\n",
    "# forward\n",
    "y = reshape(x,size(x,1)*size(x,2),size(x,3))\n",
    "# backward\n",
    "println(reshape(y,size(x,1),size(x,2),size(x,3)))"
   ]
  }
 ],
 "metadata": {
  "kernelspec": {
   "display_name": "Julia 1.11.4",
   "language": "julia",
   "name": "julia-1.11"
  },
  "language_info": {
   "file_extension": ".jl",
   "mimetype": "application/julia",
   "name": "julia",
   "version": "1.11.4"
  }
 },
 "nbformat": 4,
 "nbformat_minor": 5
}
