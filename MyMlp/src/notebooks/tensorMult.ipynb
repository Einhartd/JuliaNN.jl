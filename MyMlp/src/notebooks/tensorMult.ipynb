{
 "cells": [
  {
   "cell_type": "code",
   "execution_count": 2,
   "id": "47f00a49",
   "metadata": {},
   "outputs": [],
   "source": [
    "include(\"../TensorOperations.jl\")\n",
    "using .TensorOperations"
   ]
  },
  {
   "cell_type": "markdown",
   "id": "b5f0f1ba",
   "metadata": {},
   "source": [
    "## Test 1"
   ]
  },
  {
   "cell_type": "code",
   "execution_count": 9,
   "id": "b10037dc",
   "metadata": {},
   "outputs": [
    {
     "data": {
      "text/plain": [
       "2×2×2 Array{Int64, 3}:\n",
       "[:, :, 1] =\n",
       " 1  2\n",
       " 3  4\n",
       "\n",
       "[:, :, 2] =\n",
       " 5  6\n",
       " 7  8"
      ]
     },
     "metadata": {},
     "output_type": "display_data"
    }
   ],
   "source": [
    "A = reshape([1, 3, 2, 4, 5, 7, 6, 8], 2, 2, 2)\n"
   ]
  },
  {
   "cell_type": "code",
   "execution_count": 10,
   "id": "728e4550",
   "metadata": {},
   "outputs": [
    {
     "data": {
      "text/plain": [
       "2-element Vector{Int64}:\n",
       " 1\n",
       " 0"
      ]
     },
     "metadata": {},
     "output_type": "display_data"
    }
   ],
   "source": [
    "B = [1 ; 0]"
   ]
  },
  {
   "cell_type": "code",
   "execution_count": 11,
   "id": "9b0636e5",
   "metadata": {},
   "outputs": [
    {
     "data": {
      "text/plain": [
       "2×1×2 Array{Int64, 3}:\n",
       "[:, :, 1] =\n",
       " 1\n",
       " 3\n",
       "\n",
       "[:, :, 2] =\n",
       " 5\n",
       " 7"
      ]
     },
     "metadata": {},
     "output_type": "display_data"
    }
   ],
   "source": [
    "z = A * B"
   ]
  },
  {
   "cell_type": "markdown",
   "id": "1597f51b",
   "metadata": {},
   "source": [
    "## Test 2"
   ]
  },
  {
   "cell_type": "code",
   "execution_count": 13,
   "id": "1ad1cfd6",
   "metadata": {},
   "outputs": [
    {
     "data": {
      "text/plain": [
       "3×2×4 Array{Float32, 3}:\n",
       "[:, :, 1] =\n",
       " 1.0  0.0\n",
       " 2.0  1.0\n",
       " 3.0  2.0\n",
       "\n",
       "[:, :, 2] =\n",
       " 1.0  1.0\n",
       " 0.0  1.0\n",
       " 2.0  0.0\n",
       "\n",
       "[:, :, 3] =\n",
       " 2.0  0.0\n",
       " 1.0  0.0\n",
       " 0.0  1.0\n",
       "\n",
       "[:, :, 4] =\n",
       " 1.0  2.0\n",
       " 0.0  0.0\n",
       " 1.0  1.0"
      ]
     },
     "metadata": {},
     "output_type": "display_data"
    }
   ],
   "source": [
    "x = zeros(Float32, 3, 2, 4)\n",
    "# Warstwa 1 (k=1)\n",
    "x[:,:,1] = [1 0;\n",
    "            2 1;\n",
    "            3 2] \n",
    "# Warstwa 2 (k=2) \n",
    "x[:,:,2] = [1 1;\n",
    "            0 1;\n",
    "            2 0]\n",
    "\n",
    "# Warstwa 3 (k=3)\n",
    "x[:,:,3] = [2 0; \n",
    "            1 0; \n",
    "            0 1] \n",
    "\n",
    "# Warstwa 4 (k=4)\n",
    "x[:,:,4] = [1 2; \n",
    "            0 0; \n",
    "            1 1]  \n",
    "x"
   ]
  },
  {
   "cell_type": "code",
   "execution_count": 14,
   "id": "c67cba36",
   "metadata": {},
   "outputs": [
    {
     "data": {
      "text/plain": [
       "2×5 Matrix{Float32}:\n",
       " 1.0  0.0  2.0  4.0  6.0\n",
       " 0.0  1.0  3.0  5.0  7.0"
      ]
     },
     "metadata": {},
     "output_type": "display_data"
    }
   ],
   "source": [
    "A = Float32[1 0 2 4 6;\n",
    "            0 1 3 5 7]"
   ]
  },
  {
   "cell_type": "code",
   "execution_count": 15,
   "id": "4d4abaeb",
   "metadata": {},
   "outputs": [
    {
     "data": {
      "text/plain": [
       "3×5×4 Array{Float32, 3}:\n",
       "[:, :, 1] =\n",
       " 1.0  0.0   2.0   4.0   6.0\n",
       " 2.0  1.0   7.0  13.0  19.0\n",
       " 3.0  2.0  12.0  22.0  32.0\n",
       "\n",
       "[:, :, 2] =\n",
       " 1.0  1.0  5.0  9.0  13.0\n",
       " 0.0  1.0  3.0  5.0   7.0\n",
       " 2.0  0.0  4.0  8.0  12.0\n",
       "\n",
       "[:, :, 3] =\n",
       " 2.0  0.0  4.0  8.0  12.0\n",
       " 1.0  0.0  2.0  4.0   6.0\n",
       " 0.0  1.0  3.0  5.0   7.0\n",
       "\n",
       "[:, :, 4] =\n",
       " 1.0  2.0  8.0  14.0  20.0\n",
       " 0.0  0.0  0.0   0.0   0.0\n",
       " 1.0  1.0  5.0   9.0  13.0"
      ]
     },
     "metadata": {},
     "output_type": "display_data"
    }
   ],
   "source": [
    "b = x*A"
   ]
  }
 ],
 "metadata": {
  "kernelspec": {
   "display_name": "Julia 1.11.0",
   "language": "julia",
   "name": "julia-1.11"
  },
  "language_info": {
   "file_extension": ".jl",
   "mimetype": "application/julia",
   "name": "julia",
   "version": "1.11.0"
  }
 },
 "nbformat": 4,
 "nbformat_minor": 5
}
